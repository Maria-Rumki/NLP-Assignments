{
  "nbformat": 4,
  "nbformat_minor": 0,
  "metadata": {
    "colab": {
      "provenance": []
    },
    "kernelspec": {
      "name": "python3",
      "display_name": "Python 3"
    },
    "language_info": {
      "name": "python"
    }
  },
  "cells": [
    {
      "cell_type": "markdown",
      "source": [
        "#Question\n",
        "You MUST build on top of what we have coded in the class (to prevent anyone from just copying from the internet).\n",
        "\n",
        "1.  Try a real corpus (instead of banana apple, try something real... on the internet....) - not so big!  Just so you have a good taste of real stuff....like 50 documents, each having 50 words...(really up to you)\n",
        "\n",
        "2. Try a window size of 2\n",
        "\n",
        "3. Implement CBOW (instead of skipgrams)\n",
        "\n",
        "4. Compare normal version of skipgrams vs. negative sampling version of skipgrams in terms of time (using real corpus)\n",
        "\n",
        "Point criteria:\n",
        "0: not done/copy directly from your friend (inspired is ok)\n",
        "1: ok\n",
        "2: with comments, and a nice explanation along the notebook (like how Chaky do his tutorial...)\n",
        "\n",
        "Submit as GitHub link."
      ],
      "metadata": {
        "id": "xTY6Yafx3Wg6"
      }
    },
    {
      "cell_type": "code",
      "source": [
        "import numpy as np\n",
        "import torch\n",
        "import torch.nn as nn\n",
        "import torch.optim as optim\n",
        "import matplotlib.pyplot as plt"
      ],
      "metadata": {
        "id": "z3anyDyI3pUf"
      },
      "execution_count": 1,
      "outputs": []
    },
    {
      "cell_type": "code",
      "source": [
        "np.__version__, torch.__version__"
      ],
      "metadata": {
        "colab": {
          "base_uri": "https://localhost:8080/"
        },
        "id": "YX-y-KnT4pqs",
        "outputId": "af9eb385-9396-4f51-ed55-26f22f1ffc46"
      },
      "execution_count": 2,
      "outputs": [
        {
          "output_type": "execute_result",
          "data": {
            "text/plain": [
              "('1.21.6', '1.13.1+cu116')"
            ]
          },
          "metadata": {},
          "execution_count": 2
        }
      ]
    },
    {
      "cell_type": "code",
      "source": [
        "import matplotlib\n",
        "matplotlib.__version__"
      ],
      "metadata": {
        "colab": {
          "base_uri": "https://localhost:8080/",
          "height": 36
        },
        "id": "rEsQlj9d6mPo",
        "outputId": "dcd6a976-a1c3-412d-f5fa-95d306e5b6b0"
      },
      "execution_count": 3,
      "outputs": [
        {
          "output_type": "execute_result",
          "data": {
            "text/plain": [
              "'3.2.2'"
            ],
            "application/vnd.google.colaboratory.intrinsic+json": {
              "type": "string"
            }
          },
          "metadata": {},
          "execution_count": 3
        }
      ]
    },
    {
      "cell_type": "markdown",
      "source": [
        "#1. ***Load Data*** "
      ],
      "metadata": {
        "id": "b0JeX21w672R"
      }
    },
    {
      "cell_type": "code",
      "source": [
        "#Specify the sentence/corpus\n",
        "# i am using 15 sentences and each have 10 words\n",
        "corpus = [\"My mother is an ordinary woman she is my superhero.\",\"in every step of my, she supported and encouraged me.\",\"whether day or night she was always there for me\",\"no matter what the condition is. furthermore, her every work,\",\n",
        "          \"persistence, devotion, dedication, conduct is an inspiration for me. in\",\"this essay on my mother, i am going to talk\",\"about my mother and why she is so special to\",\n",
        "          \"me. she is an essence of truthfulness, love, and sincerity.\",\"another reason is that she showers her family with her\",\"blessing and live. furthermore, she gives us everything but never\",\n",
        "          \"demand anything in return. the way she cares for everyone\",\"in family inspires me to the same in my future.\",\n",
        "          \"also, her love is not just for the family she\",\"treats every stranger and animals the same way she did\",\"to me.she is very kind and sensible towards animals.\"\n",
        "          ]"
      ],
      "metadata": {
        "id": "1Cqz1DYR66sZ"
      },
      "execution_count": 14,
      "outputs": []
    },
    {
      "cell_type": "code",
      "source": [
        "#split corpus/tokenization\n",
        "corpus_token = [sent.split(\" \") for sent in corpus]\n",
        "corpus_token"
      ],
      "metadata": {
        "colab": {
          "base_uri": "https://localhost:8080/"
        },
        "id": "BhZLRewq63ZI",
        "outputId": "547ff2dc-7271-450f-8332-7dd839422712"
      },
      "execution_count": 15,
      "outputs": [
        {
          "output_type": "execute_result",
          "data": {
            "text/plain": [
              "[['My',\n",
              "  'mother',\n",
              "  'is',\n",
              "  'an',\n",
              "  'ordinary',\n",
              "  'woman',\n",
              "  'she',\n",
              "  'is',\n",
              "  'my',\n",
              "  'superhero.'],\n",
              " ['in',\n",
              "  'every',\n",
              "  'step',\n",
              "  'of',\n",
              "  'my,',\n",
              "  'she',\n",
              "  'supported',\n",
              "  'and',\n",
              "  'encouraged',\n",
              "  'me.'],\n",
              " ['whether',\n",
              "  'day',\n",
              "  'or',\n",
              "  'night',\n",
              "  'she',\n",
              "  'was',\n",
              "  'always',\n",
              "  'there',\n",
              "  'for',\n",
              "  'me'],\n",
              " ['no',\n",
              "  'matter',\n",
              "  'what',\n",
              "  'the',\n",
              "  'condition',\n",
              "  'is.',\n",
              "  'furthermore,',\n",
              "  'her',\n",
              "  'every',\n",
              "  'work,'],\n",
              " ['persistence,',\n",
              "  'devotion,',\n",
              "  'dedication,',\n",
              "  'conduct',\n",
              "  'is',\n",
              "  'an',\n",
              "  'inspiration',\n",
              "  'for',\n",
              "  'me.',\n",
              "  'in'],\n",
              " ['this', 'essay', 'on', 'my', 'mother,', 'i', 'am', 'going', 'to', 'talk'],\n",
              " ['about', 'my', 'mother', 'and', 'why', 'she', 'is', 'so', 'special', 'to'],\n",
              " ['me.',\n",
              "  'she',\n",
              "  'is',\n",
              "  'an',\n",
              "  'essence',\n",
              "  'of',\n",
              "  'truthfulness,',\n",
              "  'love,',\n",
              "  'and',\n",
              "  'sincerity.'],\n",
              " ['another',\n",
              "  'reason',\n",
              "  'is',\n",
              "  'that',\n",
              "  'she',\n",
              "  'showers',\n",
              "  'her',\n",
              "  'family',\n",
              "  'with',\n",
              "  'her'],\n",
              " ['blessing',\n",
              "  'and',\n",
              "  'live.',\n",
              "  'furthermore,',\n",
              "  'she',\n",
              "  'gives',\n",
              "  'us',\n",
              "  'everything',\n",
              "  'but',\n",
              "  'never'],\n",
              " ['demand',\n",
              "  'anything',\n",
              "  'in',\n",
              "  'return.',\n",
              "  'the',\n",
              "  'way',\n",
              "  'she',\n",
              "  'cares',\n",
              "  'for',\n",
              "  'everyone'],\n",
              " ['in',\n",
              "  'family',\n",
              "  'inspires',\n",
              "  'me',\n",
              "  'to',\n",
              "  'the',\n",
              "  'same',\n",
              "  'in',\n",
              "  'my',\n",
              "  'future.'],\n",
              " ['also,', 'her', 'love', 'is', 'not', 'just', 'for', 'the', 'family', 'she'],\n",
              " ['treats',\n",
              "  'every',\n",
              "  'stranger',\n",
              "  'and',\n",
              "  'animals',\n",
              "  'the',\n",
              "  'same',\n",
              "  'way',\n",
              "  'she',\n",
              "  'did'],\n",
              " ['to',\n",
              "  'me.she',\n",
              "  'is',\n",
              "  'very',\n",
              "  'kind',\n",
              "  'and',\n",
              "  'sensible',\n",
              "  'towards',\n",
              "  'animals.']]"
            ]
          },
          "metadata": {},
          "execution_count": 15
        }
      ]
    },
    {
      "cell_type": "code",
      "source": [
        "#marge all list and get unique words \n",
        "flatten = lambda l: [item for sublist in l for item in sublist]\n",
        "vocab = list(set(flatten(corpus_token)))\n",
        "vocab\n"
      ],
      "metadata": {
        "colab": {
          "base_uri": "https://localhost:8080/"
        },
        "id": "RyaNxFZSG2g7",
        "outputId": "2ee565a5-2e57-4dad-d030-20af9d09adb9"
      },
      "execution_count": 17,
      "outputs": [
        {
          "output_type": "execute_result",
          "data": {
            "text/plain": [
              "['reason',\n",
              " 'why',\n",
              " 'essay',\n",
              " 'future.',\n",
              " 'towards',\n",
              " 'sincerity.',\n",
              " 'persistence,',\n",
              " 'with',\n",
              " 'My',\n",
              " 'showers',\n",
              " 'about',\n",
              " 'to',\n",
              " 'this',\n",
              " 'ordinary',\n",
              " 'matter',\n",
              " 'every',\n",
              " 'mother,',\n",
              " 'return.',\n",
              " 'very',\n",
              " 'but',\n",
              " 'anything',\n",
              " 'live.',\n",
              " 'kind',\n",
              " 'never',\n",
              " 'not',\n",
              " 'dedication,',\n",
              " 'her',\n",
              " 'blessing',\n",
              " 'me.she',\n",
              " 'on',\n",
              " 'devotion,',\n",
              " 'always',\n",
              " 'me.',\n",
              " 'day',\n",
              " 'supported',\n",
              " 'woman',\n",
              " 'going',\n",
              " 'that',\n",
              " 'just',\n",
              " 'what',\n",
              " 'special',\n",
              " 'love',\n",
              " 'in',\n",
              " 'everything',\n",
              " 'conduct',\n",
              " 'i',\n",
              " 'another',\n",
              " 'so',\n",
              " 'she',\n",
              " 'furthermore,',\n",
              " 'for',\n",
              " 'way',\n",
              " 'everyone',\n",
              " 'step',\n",
              " 'family',\n",
              " 'also,',\n",
              " 'or',\n",
              " 'is.',\n",
              " 'did',\n",
              " 'night',\n",
              " 'condition',\n",
              " 'inspires',\n",
              " 'superhero.',\n",
              " 'my',\n",
              " 'us',\n",
              " 'is',\n",
              " 'encouraged',\n",
              " 'of',\n",
              " 'my,',\n",
              " 'an',\n",
              " 'cares',\n",
              " 'was',\n",
              " 'and',\n",
              " 'love,',\n",
              " 'demand',\n",
              " 'me',\n",
              " 'no',\n",
              " 'treats',\n",
              " 'the',\n",
              " 'am',\n",
              " 'gives',\n",
              " 'sensible',\n",
              " 'truthfulness,',\n",
              " 'inspiration',\n",
              " 'same',\n",
              " 'animals',\n",
              " 'essence',\n",
              " 'whether',\n",
              " 'animals.',\n",
              " 'mother',\n",
              " 'stranger',\n",
              " 'work,',\n",
              " 'talk',\n",
              " 'there']"
            ]
          },
          "metadata": {},
          "execution_count": 17
        }
      ]
    },
    {
      "cell_type": "code",
      "source": [
        "#numericalization\n",
        "word2idx = {w: i for i, w in enumerate(vocab)}\n",
        "word2idx"
      ],
      "metadata": {
        "colab": {
          "base_uri": "https://localhost:8080/"
        },
        "id": "gG9jelZOIx_l",
        "outputId": "a539e640-c92b-48ab-d2ef-7c885de50c9b"
      },
      "execution_count": 18,
      "outputs": [
        {
          "output_type": "execute_result",
          "data": {
            "text/plain": [
              "{'reason': 0,\n",
              " 'why': 1,\n",
              " 'essay': 2,\n",
              " 'future.': 3,\n",
              " 'towards': 4,\n",
              " 'sincerity.': 5,\n",
              " 'persistence,': 6,\n",
              " 'with': 7,\n",
              " 'My': 8,\n",
              " 'showers': 9,\n",
              " 'about': 10,\n",
              " 'to': 11,\n",
              " 'this': 12,\n",
              " 'ordinary': 13,\n",
              " 'matter': 14,\n",
              " 'every': 15,\n",
              " 'mother,': 16,\n",
              " 'return.': 17,\n",
              " 'very': 18,\n",
              " 'but': 19,\n",
              " 'anything': 20,\n",
              " 'live.': 21,\n",
              " 'kind': 22,\n",
              " 'never': 23,\n",
              " 'not': 24,\n",
              " 'dedication,': 25,\n",
              " 'her': 26,\n",
              " 'blessing': 27,\n",
              " 'me.she': 28,\n",
              " 'on': 29,\n",
              " 'devotion,': 30,\n",
              " 'always': 31,\n",
              " 'me.': 32,\n",
              " 'day': 33,\n",
              " 'supported': 34,\n",
              " 'woman': 35,\n",
              " 'going': 36,\n",
              " 'that': 37,\n",
              " 'just': 38,\n",
              " 'what': 39,\n",
              " 'special': 40,\n",
              " 'love': 41,\n",
              " 'in': 42,\n",
              " 'everything': 43,\n",
              " 'conduct': 44,\n",
              " 'i': 45,\n",
              " 'another': 46,\n",
              " 'so': 47,\n",
              " 'she': 48,\n",
              " 'furthermore,': 49,\n",
              " 'for': 50,\n",
              " 'way': 51,\n",
              " 'everyone': 52,\n",
              " 'step': 53,\n",
              " 'family': 54,\n",
              " 'also,': 55,\n",
              " 'or': 56,\n",
              " 'is.': 57,\n",
              " 'did': 58,\n",
              " 'night': 59,\n",
              " 'condition': 60,\n",
              " 'inspires': 61,\n",
              " 'superhero.': 62,\n",
              " 'my': 63,\n",
              " 'us': 64,\n",
              " 'is': 65,\n",
              " 'encouraged': 66,\n",
              " 'of': 67,\n",
              " 'my,': 68,\n",
              " 'an': 69,\n",
              " 'cares': 70,\n",
              " 'was': 71,\n",
              " 'and': 72,\n",
              " 'love,': 73,\n",
              " 'demand': 74,\n",
              " 'me': 75,\n",
              " 'no': 76,\n",
              " 'treats': 77,\n",
              " 'the': 78,\n",
              " 'am': 79,\n",
              " 'gives': 80,\n",
              " 'sensible': 81,\n",
              " 'truthfulness,': 82,\n",
              " 'inspiration': 83,\n",
              " 'same': 84,\n",
              " 'animals': 85,\n",
              " 'essence': 86,\n",
              " 'whether': 87,\n",
              " 'animals.': 88,\n",
              " 'mother': 89,\n",
              " 'stranger': 90,\n",
              " 'work,': 91,\n",
              " 'talk': 92,\n",
              " 'there': 93}"
            ]
          },
          "metadata": {},
          "execution_count": 18
        }
      ]
    },
    {
      "cell_type": "code",
      "source": [
        "#vocab size\n",
        "vocab_size = len(vocab)\n",
        "vocab_size"
      ],
      "metadata": {
        "colab": {
          "base_uri": "https://localhost:8080/"
        },
        "id": "uQuKzmdyJAgE",
        "outputId": "9c8d44b2-990a-45fa-c4da-7ca0caaa3c09"
      },
      "execution_count": 19,
      "outputs": [
        {
          "output_type": "execute_result",
          "data": {
            "text/plain": [
              "94"
            ]
          },
          "metadata": {},
          "execution_count": 19
        }
      ]
    },
    {
      "cell_type": "code",
      "source": [
        "#append unk\n",
        "vocab.append('<UNK>')"
      ],
      "metadata": {
        "id": "cH4tBLs3JMbC"
      },
      "execution_count": 20,
      "outputs": []
    },
    {
      "cell_type": "code",
      "source": [
        "word2idx['<UNK>'] = 94"
      ],
      "metadata": {
        "id": "3J2MyzP3JYy2"
      },
      "execution_count": 21,
      "outputs": []
    },
    {
      "cell_type": "code",
      "source": [
        "#if we need to use\n",
        "idx2word = {v:k for k, v in word2idx.items()}"
      ],
      "metadata": {
        "id": "v7J7EA4SJqQs"
      },
      "execution_count": 22,
      "outputs": []
    },
    {
      "cell_type": "markdown",
      "source": [
        "***2. Prepare Train Data***"
      ],
      "metadata": {
        "id": "QJ1e09q5KAu5"
      }
    },
    {
      "cell_type": "code",
      "source": [
        "for e in corpus_token:\n",
        "    print(e)"
      ],
      "metadata": {
        "colab": {
          "base_uri": "https://localhost:8080/"
        },
        "id": "YhqQQmu6J4xI",
        "outputId": "c2d9c75a-030e-4314-9ecc-a7e7a80b0ba3"
      },
      "execution_count": 23,
      "outputs": [
        {
          "output_type": "stream",
          "name": "stdout",
          "text": [
            "['My', 'mother', 'is', 'an', 'ordinary', 'woman', 'she', 'is', 'my', 'superhero.']\n",
            "['in', 'every', 'step', 'of', 'my,', 'she', 'supported', 'and', 'encouraged', 'me.']\n",
            "['whether', 'day', 'or', 'night', 'she', 'was', 'always', 'there', 'for', 'me']\n",
            "['no', 'matter', 'what', 'the', 'condition', 'is.', 'furthermore,', 'her', 'every', 'work,']\n",
            "['persistence,', 'devotion,', 'dedication,', 'conduct', 'is', 'an', 'inspiration', 'for', 'me.', 'in']\n",
            "['this', 'essay', 'on', 'my', 'mother,', 'i', 'am', 'going', 'to', 'talk']\n",
            "['about', 'my', 'mother', 'and', 'why', 'she', 'is', 'so', 'special', 'to']\n",
            "['me.', 'she', 'is', 'an', 'essence', 'of', 'truthfulness,', 'love,', 'and', 'sincerity.']\n",
            "['another', 'reason', 'is', 'that', 'she', 'showers', 'her', 'family', 'with', 'her']\n",
            "['blessing', 'and', 'live.', 'furthermore,', 'she', 'gives', 'us', 'everything', 'but', 'never']\n",
            "['demand', 'anything', 'in', 'return.', 'the', 'way', 'she', 'cares', 'for', 'everyone']\n",
            "['in', 'family', 'inspires', 'me', 'to', 'the', 'same', 'in', 'my', 'future.']\n",
            "['also,', 'her', 'love', 'is', 'not', 'just', 'for', 'the', 'family', 'she']\n",
            "['treats', 'every', 'stranger', 'and', 'animals', 'the', 'same', 'way', 'she', 'did']\n",
            "['to', 'me.she', 'is', 'very', 'kind', 'and', 'sensible', 'towards', 'animals.']\n"
          ]
        }
      ]
    },
    {
      "cell_type": "markdown",
      "source": [
        "#Word2index"
      ],
      "metadata": {
        "id": "0CyOinLWKduy"
      }
    },
    {
      "cell_type": "code",
      "source": [
        "skipgram = []\n",
        "for sent in corpus_token:\n",
        "    for i in range(2, len(sent) - 2): \n",
        "        center_word = sent[i]\n",
        "        outside_words = [sent[i-2], sent[i-1], sent[i+1], sent[i+2]]  #window_size = 2\n",
        "        for o in outside_words:\n",
        "            skipgram.append([center_word, o])"
      ],
      "metadata": {
        "id": "_QXG9ja2KdYS"
      },
      "execution_count": 24,
      "outputs": []
    },
    {
      "cell_type": "code",
      "source": [
        "def random_batch(batch_size, word_sequence):\n",
        "    \n",
        "    skip_gram = []\n",
        "\n",
        "    for sent in corpus_token:                          # loop each word sequence\n",
        "        for i in range(2, len(sent) - 2):\n",
        "            target = word2idx[sent[i]]\n",
        "            context = [word2idx[sent[i - 2]], word2idx[sent[i - 1]], word2idx[sent[i + 1]], word2idx[sent[i + 2]]] # window size 2\n",
        "            for w in context:\n",
        "                skip_gram.append([target, w])\n",
        "    \n",
        "    random_inputs = []\n",
        "    random_labels = []\n",
        "    random_index = np.random.choice(range(len(skip_gram)), batch_size, replace=False) #pick without replacement rendomly\n",
        "        \n",
        "    for i in random_index:\n",
        "      # target word like 2\n",
        "        random_inputs.append([skip_gram[i][0]])  \n",
        "        # context word like 3\n",
        "        random_labels.append([skip_gram[i][1]])  \n",
        "            \n",
        "    return np.array(random_inputs), np.array(random_labels)"
      ],
      "metadata": {
        "id": "TgWkF0E3KZrk"
      },
      "execution_count": 25,
      "outputs": []
    },
    {
      "cell_type": "markdown",
      "source": [
        "Method Testing"
      ],
      "metadata": {
        "id": "CIKP-4r9N9kV"
      }
    },
    {
      "cell_type": "code",
      "source": [
        "#testing the method\n",
        "# mini-batch size\n",
        "batch_size = 2 \n",
        "input_batch, target_batch = random_batch(batch_size, corpus_token)\n",
        "\n",
        "print(\"Input: \", input_batch)\n",
        "print(\"Target: \", target_batch)"
      ],
      "metadata": {
        "colab": {
          "base_uri": "https://localhost:8080/"
        },
        "id": "6Kw_v-2yN6u0",
        "outputId": "bbc681a7-8852-4674-e933-d22efa9355ed"
      },
      "execution_count": 26,
      "outputs": [
        {
          "output_type": "stream",
          "name": "stdout",
          "text": [
            "Input:  [[65]\n",
            " [49]]\n",
            "Target:  [[24]\n",
            " [48]]\n"
          ]
        }
      ]
    },
    {
      "cell_type": "markdown",
      "source": [
        "**Model**"
      ],
      "metadata": {
        "id": "D3v-zhABVOgI"
      }
    },
    {
      "cell_type": "code",
      "source": [
        "class Skipgram(nn.Module):\n",
        "    \n",
        "    def __init__(self, vocab_size, emb_size):\n",
        "        super(Skipgram,self).__init__()\n",
        "        self.embedding_v = nn.Embedding(vocab_size, emb_size)\n",
        "        self.embedding_u = nn.Embedding(vocab_size, emb_size)\n",
        "    \n",
        "    def forward(self, center_words, target_words, all_vocabs):\n",
        "      # batch_size, 1, emb_size\n",
        "        center_embeds = self.embedding_v(center_words)\n",
        "        target_embeds = self.embedding_u(target_words) \n",
        "        all_embeds    = self.embedding_v(all_vocabs) #batch_size, voc_size, emb_size\n",
        "        # print(all_embeds.shape)\n",
        "        \n",
        "        scores      = target_embeds.bmm(center_embeds.transpose(1, 2)).squeeze(2)\n",
        "        #[batch_size, 1, emb_size] @ [batch_size, emb_size, 1] = [batch_size, 1, 1] = [batch_size, 1]\n",
        "\n",
        "        norm_scores = all_embeds.bmm(center_embeds.transpose(1, 2)).squeeze(2)\n",
        "        \n",
        "\n",
        "        nll = -torch.mean(torch.log(torch.exp(scores)/torch.sum(torch.exp(norm_scores), 1).unsqueeze(1))) \n",
        "        return nll "
      ],
      "metadata": {
        "id": "FmV3xsKTVSGu"
      },
      "execution_count": 27,
      "outputs": []
    },
    {
      "cell_type": "markdown",
      "source": [
        "**Training**"
      ],
      "metadata": {
        "id": "L3gSjFHPXkuq"
      }
    },
    {
      "cell_type": "code",
      "source": [
        "batch_size     = 2 \n",
        "embedding_size = 2 #later plot\n",
        "model          = Skipgram(len(vocab), embedding_size)\n",
        "\n",
        "optimizer = optim.Adam(model.parameters(), lr=0.001)\n",
        "model"
      ],
      "metadata": {
        "colab": {
          "base_uri": "https://localhost:8080/"
        },
        "id": "aHSney6QXi4-",
        "outputId": "d24dc547-44fd-498c-8f4d-ffe39f657667"
      },
      "execution_count": 29,
      "outputs": [
        {
          "output_type": "execute_result",
          "data": {
            "text/plain": [
              "Skipgram(\n",
              "  (embedding_v): Embedding(95, 2)\n",
              "  (embedding_u): Embedding(95, 2)\n",
              ")"
            ]
          },
          "metadata": {},
          "execution_count": 29
        }
      ]
    },
    {
      "cell_type": "code",
      "source": [
        "def prepare_sequence(seq, word2idx):\n",
        "    idx = list(map(lambda w: word2idx[w] if word2idx.get(w) is not None else word2idx[\"<UNK>\"], seq))\n",
        "    return torch.LongTensor(idx)\n",
        "\n",
        "#use for normalized term in the probability calculation\n",
        "all_vocabs = prepare_sequence(list(vocab), word2idx).expand(batch_size, len(vocab))  \n",
        "all_vocabs.shape"
      ],
      "metadata": {
        "colab": {
          "base_uri": "https://localhost:8080/"
        },
        "id": "EVri2jdlX4B_",
        "outputId": "509c2c59-a109-4189-a2ad-79e699c30800"
      },
      "execution_count": 31,
      "outputs": [
        {
          "output_type": "execute_result",
          "data": {
            "text/plain": [
              "torch.Size([2, 95])"
            ]
          },
          "metadata": {},
          "execution_count": 31
        }
      ]
    },
    {
      "cell_type": "code",
      "source": [
        "def epoch_time(start_time, end_time):\n",
        "    elapsed_time = end_time - start_time\n",
        "    elapsed_min = int(elapsed_time / 60)\n",
        "    elapsed_sec = int(elapsed_time - (elapsed_min * 60))\n",
        "\n",
        "    return elapsed_min, elapsed_sec"
      ],
      "metadata": {
        "id": "fd5J6f4FYk5C"
      },
      "execution_count": 32,
      "outputs": []
    },
    {
      "cell_type": "code",
      "source": [
        "import time"
      ],
      "metadata": {
        "id": "I9FCHU1WY3Gw"
      },
      "execution_count": 33,
      "outputs": []
    },
    {
      "cell_type": "code",
      "source": [
        "start_train = time.time()\n",
        "\n",
        "# Training\n",
        "num_epochs = 50000\n",
        "for epoch in range(num_epochs):\n",
        "    \n",
        "    start = time.time()\n",
        "    \n",
        "    input_batch, target_batch = random_batch(batch_size, corpus_token)\n",
        "    input_batch  = torch.LongTensor(input_batch)  \n",
        "    target_batch = torch.LongTensor(target_batch) \n",
        "    # print(target_batch.shape)\n",
        "    # print(input_batch.shape)\n",
        "    \n",
        "\n",
        "    optimizer.zero_grad()\n",
        "    loss = model(input_batch, target_batch, all_vocabs)\n",
        "    \n",
        "    loss.backward()\n",
        "    optimizer.step()\n",
        "    \n",
        "    end = time.time()\n",
        "    \n",
        "    epoch_mins, epoch_secs = epoch_time(start, end)\n",
        "\n",
        "    if (epoch + 1) % 1000 == 0:\n",
        "        print(f\"Epoch: {epoch + 1} | cost: {loss:.6f} | time: {epoch_mins}m {epoch_secs}s\")\n",
        "\n",
        "total = time.time() - start_train\n",
        "print('Total time:', total)"
      ],
      "metadata": {
        "colab": {
          "base_uri": "https://localhost:8080/"
        },
        "id": "snIthB7HY-d-",
        "outputId": "c92660ec-6d49-4a32-e63f-0ec8785fa987"
      },
      "execution_count": 34,
      "outputs": [
        {
          "output_type": "stream",
          "name": "stdout",
          "text": [
            "Epoch: 1000 | cost: 4.630462 | time: 0m 0s\n",
            "Epoch: 2000 | cost: 2.785746 | time: 0m 0s\n",
            "Epoch: 3000 | cost: 4.585916 | time: 0m 0s\n",
            "Epoch: 4000 | cost: 4.331287 | time: 0m 0s\n",
            "Epoch: 5000 | cost: 2.745359 | time: 0m 0s\n",
            "Epoch: 6000 | cost: 4.576880 | time: 0m 0s\n",
            "Epoch: 7000 | cost: 3.379042 | time: 0m 0s\n",
            "Epoch: 8000 | cost: -0.856602 | time: 0m 0s\n",
            "Epoch: 9000 | cost: 1.253890 | time: 0m 0s\n",
            "Epoch: 10000 | cost: 3.834155 | time: 0m 0s\n",
            "Epoch: 11000 | cost: 2.685445 | time: 0m 0s\n",
            "Epoch: 12000 | cost: 2.640347 | time: 0m 0s\n",
            "Epoch: 13000 | cost: -0.481948 | time: 0m 0s\n",
            "Epoch: 14000 | cost: -1.404057 | time: 0m 0s\n",
            "Epoch: 15000 | cost: 1.884574 | time: 0m 0s\n",
            "Epoch: 16000 | cost: 0.590793 | time: 0m 0s\n",
            "Epoch: 17000 | cost: 1.900640 | time: 0m 0s\n",
            "Epoch: 18000 | cost: 2.839514 | time: 0m 0s\n",
            "Epoch: 19000 | cost: -0.118984 | time: 0m 0s\n",
            "Epoch: 20000 | cost: 0.449072 | time: 0m 0s\n",
            "Epoch: 21000 | cost: 4.584888 | time: 0m 0s\n",
            "Epoch: 22000 | cost: 0.422704 | time: 0m 0s\n",
            "Epoch: 23000 | cost: 3.068161 | time: 0m 0s\n",
            "Epoch: 24000 | cost: -1.348685 | time: 0m 0s\n",
            "Epoch: 25000 | cost: 0.927863 | time: 0m 0s\n",
            "Epoch: 26000 | cost: -5.663109 | time: 0m 0s\n",
            "Epoch: 27000 | cost: -6.695365 | time: 0m 0s\n",
            "Epoch: 28000 | cost: 2.868604 | time: 0m 0s\n",
            "Epoch: 29000 | cost: 4.495162 | time: 0m 0s\n",
            "Epoch: 30000 | cost: -4.707720 | time: 0m 0s\n",
            "Epoch: 31000 | cost: -0.636873 | time: 0m 0s\n",
            "Epoch: 32000 | cost: -8.108609 | time: 0m 0s\n",
            "Epoch: 33000 | cost: -22.076962 | time: 0m 0s\n",
            "Epoch: 34000 | cost: -0.672544 | time: 0m 0s\n",
            "Epoch: 35000 | cost: -7.375099 | time: 0m 0s\n",
            "Epoch: 36000 | cost: 0.985156 | time: 0m 0s\n",
            "Epoch: 37000 | cost: -6.678598 | time: 0m 0s\n",
            "Epoch: 38000 | cost: -3.046350 | time: 0m 0s\n",
            "Epoch: 39000 | cost: -4.058038 | time: 0m 0s\n",
            "Epoch: 40000 | cost: -11.303343 | time: 0m 0s\n",
            "Epoch: 41000 | cost: -4.479449 | time: 0m 0s\n",
            "Epoch: 42000 | cost: -20.605831 | time: 0m 0s\n",
            "Epoch: 43000 | cost: -12.143088 | time: 0m 0s\n",
            "Epoch: 44000 | cost: 0.787498 | time: 0m 0s\n",
            "Epoch: 45000 | cost: -8.019033 | time: 0m 0s\n",
            "Epoch: 46000 | cost: nan | time: 0m 0s\n",
            "Epoch: 47000 | cost: nan | time: 0m 0s\n",
            "Epoch: 48000 | cost: nan | time: 0m 0s\n",
            "Epoch: 49000 | cost: nan | time: 0m 0s\n",
            "Epoch: 50000 | cost: nan | time: 0m 0s\n",
            "Total time: 57.294617652893066\n"
          ]
        }
      ]
    },
    {
      "cell_type": "markdown",
      "source": [
        "Negative Sampling\n",
        "\n",
        "Unigram Distribution "
      ],
      "metadata": {
        "id": "Rc8NIU4gaVBF"
      }
    },
    {
      "cell_type": "code",
      "source": [
        "X = 0.001\n",
        "\n",
        "from collections import Counter\n",
        "\n",
        "word_count = Counter(flatten(corpus_token))\n",
        "total_words = sum([c for w, c in word_count.items()])\n",
        "total_words"
      ],
      "metadata": {
        "colab": {
          "base_uri": "https://localhost:8080/"
        },
        "id": "kN3fMdk6amh6",
        "outputId": "f891c1f1-fafe-43bb-9ccd-bf580d431a22"
      },
      "execution_count": 48,
      "outputs": [
        {
          "output_type": "execute_result",
          "data": {
            "text/plain": [
              "149"
            ]
          },
          "metadata": {},
          "execution_count": 48
        }
      ]
    },
    {
      "cell_type": "code",
      "source": [
        "word_count['she']"
      ],
      "metadata": {
        "colab": {
          "base_uri": "https://localhost:8080/"
        },
        "id": "GkMWovJLbW7o",
        "outputId": "dba26537-b6b2-487b-a34d-cb63c555ab5e"
      },
      "execution_count": 49,
      "outputs": [
        {
          "output_type": "execute_result",
          "data": {
            "text/plain": [
              "10"
            ]
          },
          "metadata": {},
          "execution_count": 49
        }
      ]
    },
    {
      "cell_type": "code",
      "source": [
        "unigram_table = []\n",
        "\n",
        "for vo in vocab:\n",
        "    unigram_table.extend([vo] * int(((word_count[vo]/total_words)**0.75)/X))\n",
        "\n",
        " "
      ],
      "metadata": {
        "id": "TQ0s4AZCblzg"
      },
      "execution_count": 52,
      "outputs": []
    },
    {
      "cell_type": "code",
      "source": [
        "Counter(unigram_table)"
      ],
      "metadata": {
        "colab": {
          "base_uri": "https://localhost:8080/"
        },
        "id": "6y4So7mqcYZE",
        "outputId": "a1338d98-2a00-4b4f-9080-49fd21eb5d01"
      },
      "execution_count": 53,
      "outputs": [
        {
          "output_type": "execute_result",
          "data": {
            "text/plain": [
              "Counter({'reason': 23,\n",
              "         'why': 23,\n",
              "         'essay': 23,\n",
              "         'future.': 23,\n",
              "         'towards': 23,\n",
              "         'sincerity.': 23,\n",
              "         'persistence,': 23,\n",
              "         'with': 23,\n",
              "         'My': 23,\n",
              "         'showers': 23,\n",
              "         'about': 23,\n",
              "         'to': 66,\n",
              "         'this': 23,\n",
              "         'ordinary': 23,\n",
              "         'matter': 23,\n",
              "         'every': 53,\n",
              "         'mother,': 23,\n",
              "         'return.': 23,\n",
              "         'very': 23,\n",
              "         'but': 23,\n",
              "         'anything': 23,\n",
              "         'live.': 23,\n",
              "         'kind': 23,\n",
              "         'never': 23,\n",
              "         'not': 23,\n",
              "         'dedication,': 23,\n",
              "         'her': 66,\n",
              "         'blessing': 23,\n",
              "         'me.she': 23,\n",
              "         'on': 23,\n",
              "         'devotion,': 23,\n",
              "         'always': 23,\n",
              "         'me.': 53,\n",
              "         'day': 23,\n",
              "         'supported': 23,\n",
              "         'woman': 23,\n",
              "         'going': 23,\n",
              "         'that': 23,\n",
              "         'just': 23,\n",
              "         'what': 23,\n",
              "         'special': 23,\n",
              "         'love': 23,\n",
              "         'in': 78,\n",
              "         'everything': 23,\n",
              "         'conduct': 23,\n",
              "         'i': 23,\n",
              "         'another': 23,\n",
              "         'so': 23,\n",
              "         'she': 131,\n",
              "         'furthermore,': 39,\n",
              "         'for': 66,\n",
              "         'way': 39,\n",
              "         'everyone': 23,\n",
              "         'step': 23,\n",
              "         'family': 53,\n",
              "         'also,': 23,\n",
              "         'or': 23,\n",
              "         'is.': 23,\n",
              "         'did': 23,\n",
              "         'night': 23,\n",
              "         'condition': 23,\n",
              "         'inspires': 23,\n",
              "         'superhero.': 23,\n",
              "         'my': 66,\n",
              "         'us': 23,\n",
              "         'is': 111,\n",
              "         'encouraged': 23,\n",
              "         'of': 39,\n",
              "         'my,': 23,\n",
              "         'an': 53,\n",
              "         'cares': 23,\n",
              "         'was': 23,\n",
              "         'and': 89,\n",
              "         'love,': 23,\n",
              "         'demand': 23,\n",
              "         'me': 39,\n",
              "         'no': 23,\n",
              "         'treats': 23,\n",
              "         'the': 78,\n",
              "         'am': 23,\n",
              "         'gives': 23,\n",
              "         'sensible': 23,\n",
              "         'truthfulness,': 23,\n",
              "         'inspiration': 23,\n",
              "         'same': 39,\n",
              "         'animals': 23,\n",
              "         'essence': 23,\n",
              "         'whether': 23,\n",
              "         'animals.': 23,\n",
              "         'mother': 39,\n",
              "         'stranger': 23,\n",
              "         'work,': 23,\n",
              "         'talk': 23,\n",
              "         'there': 23})"
            ]
          },
          "metadata": {},
          "execution_count": 53
        }
      ]
    },
    {
      "cell_type": "markdown",
      "source": [
        "Noe Negative Sampling"
      ],
      "metadata": {
        "id": "BUATCubmc48e"
      }
    },
    {
      "cell_type": "code",
      "source": [
        "import random"
      ],
      "metadata": {
        "id": "WOuxd7ELc68d"
      },
      "execution_count": 54,
      "outputs": []
    },
    {
      "cell_type": "code",
      "source": [
        "def prepare_sequence(seq, word2idx):\n",
        "    idx = list(map(lambda w: word2idx[w] if word2idx.get(w) is not None else word2idx[\"<UNK>\"], seq))\n",
        "    return torch.LongTensor(idx)\n",
        "\n",
        "def negative_sampling(targets, unigram_table, x):\n",
        "    batch_size = targets.size(0)\n",
        "    neg_sample = []\n",
        "    for i in range(batch_size):\n",
        "        nsample = []\n",
        "        target_index = targets[i].item()\n",
        "        while len(nsample) < x:                                                       # num of sampling\n",
        "            neg = random.choice(unigram_table)\n",
        "            if word2idx[neg] == target_index:\n",
        "                continue\n",
        "            nsample.append(neg)\n",
        "        neg_sample.append(prepare_sequence(nsample, word2idx).view(1, -1))\n",
        "    \n",
        "    return torch.cat(neg_sample)"
      ],
      "metadata": {
        "id": "LELbJWQuc-mY"
      },
      "execution_count": 55,
      "outputs": []
    },
    {
      "cell_type": "markdown",
      "source": [
        "Testing"
      ],
      "metadata": {
        "id": "JlqRSLUUdcPb"
      }
    },
    {
      "cell_type": "code",
      "source": [
        "# input_batch  = torch.Tensor(input_batch)\n",
        "# target_batch = torch.LongTensor(target_batc\n",
        "type(input_batch)"
      ],
      "metadata": {
        "colab": {
          "base_uri": "https://localhost:8080/"
        },
        "id": "vXX2ecb7dY2s",
        "outputId": "55f86e1c-fa98-443b-cecd-b70cffde5b6a"
      },
      "execution_count": 56,
      "outputs": [
        {
          "output_type": "execute_result",
          "data": {
            "text/plain": [
              "torch.Tensor"
            ]
          },
          "metadata": {},
          "execution_count": 56
        }
      ]
    },
    {
      "cell_type": "code",
      "source": [
        "target_batch.shape"
      ],
      "metadata": {
        "colab": {
          "base_uri": "https://localhost:8080/"
        },
        "id": "QbAoJrBRdpqo",
        "outputId": "403e3b84-74f8-4148-bd3f-e52604fba35b"
      },
      "execution_count": 57,
      "outputs": [
        {
          "output_type": "execute_result",
          "data": {
            "text/plain": [
              "torch.Size([2, 1])"
            ]
          },
          "metadata": {},
          "execution_count": 57
        }
      ]
    },
    {
      "cell_type": "code",
      "source": [
        "num_neg = 4\n",
        "negative_sampling(target_batch, unigram_table, num_neg)"
      ],
      "metadata": {
        "colab": {
          "base_uri": "https://localhost:8080/"
        },
        "id": "JwTwqJAod2VO",
        "outputId": "8a86021c-2856-491f-cfd6-8a67c9d6a440"
      },
      "execution_count": 58,
      "outputs": [
        {
          "output_type": "execute_result",
          "data": {
            "text/plain": [
              "tensor([[26, 48, 72, 58],\n",
              "        [10, 13, 54, 61]])"
            ]
          },
          "metadata": {},
          "execution_count": 58
        }
      ]
    },
    {
      "cell_type": "markdown",
      "source": [
        "Model"
      ],
      "metadata": {
        "id": "mA7CA3pSeDDQ"
      }
    },
    {
      "cell_type": "code",
      "source": [
        "class SkipgramNegSampling(nn.Module):\n",
        "    \n",
        "    def __init__(self, vocab_size, emb_size):\n",
        "        super(SkipgramNegSampling, self).__init__()\n",
        "        #embedding\n",
        "        self.embedding_v = nn.Embedding(vocab_size, emb_size) # center \n",
        "        self.embedding_u = nn.Embedding(vocab_size, emb_size) # out \n",
        "        self.logsigmoid = nn.LogSigmoid()\n",
        "                    \n",
        "    def forward(self, center_words, target_words, negative_words):\n",
        "      # [batch_size, 1, emb_size]\n",
        "        center_embeds = self.embedding_v(center_words) \n",
        "        target_embeds = self.embedding_u(target_words) \n",
        "        neg_embeds    = -self.embedding_u(negative_words) # [batch_size, num_neg, emb_size]\n",
        "        \n",
        "        positive_score = target_embeds.bmm(center_embeds.transpose(1, 2)).squeeze(2)\n",
        "       \n",
        "        \n",
        "        negative_score = neg_embeds.bmm(center_embeds.transpose(1, 2))\n",
        "        \n",
        "        \n",
        "        loss = self.logsigmoid(positive_score) + torch.sum(self.logsigmoid(negative_score), 1)\n",
        "                \n",
        "        return -torch.mean(loss)\n",
        "    \n",
        "    def prediction(self, inputs):\n",
        "        embed = self.embedding_v(inputs)\n",
        "        \n",
        "        return embed"
      ],
      "metadata": {
        "id": "is0Mj16yeB9N"
      },
      "execution_count": 59,
      "outputs": []
    },
    {
      "cell_type": "markdown",
      "source": [
        "Training"
      ],
      "metadata": {
        "id": "cRLCucYrfMyP"
      }
    },
    {
      "cell_type": "code",
      "source": [
        "batch_size     = 2 \n",
        "embedding_size = 2 \n",
        "model          = SkipgramNegSampling(len(vocab), embedding_size)\n",
        "num_neg        = 15\n",
        "\n",
        "optimizer = optim.Adam(model.parameters(), lr=0.001)"
      ],
      "metadata": {
        "id": "uP5xZRbOfOhP"
      },
      "execution_count": 60,
      "outputs": []
    },
    {
      "cell_type": "code",
      "source": [
        "model"
      ],
      "metadata": {
        "colab": {
          "base_uri": "https://localhost:8080/"
        },
        "id": "lsD0wixpfWo6",
        "outputId": "a191408d-2707-48f0-b664-4d5894674871"
      },
      "execution_count": 61,
      "outputs": [
        {
          "output_type": "execute_result",
          "data": {
            "text/plain": [
              "SkipgramNegSampling(\n",
              "  (embedding_v): Embedding(95, 2)\n",
              "  (embedding_u): Embedding(95, 2)\n",
              "  (logsigmoid): LogSigmoid()\n",
              ")"
            ]
          },
          "metadata": {},
          "execution_count": 61
        }
      ]
    },
    {
      "cell_type": "code",
      "source": [
        "def epoch_time(start_time, end_time):\n",
        "    elapsed_time = end_time - start_time\n",
        "    elapsed_min = int(elapsed_time / 60)\n",
        "    elapsed_sec = int(elapsed_time - (elapsed_min * 60))\n",
        "    return elapsed_min, elapsed_sec"
      ],
      "metadata": {
        "id": "2Nl4lR6Qfcxr"
      },
      "execution_count": 62,
      "outputs": []
    },
    {
      "cell_type": "code",
      "source": [
        "import time"
      ],
      "metadata": {
        "id": "xfrH3undfnZR"
      },
      "execution_count": 63,
      "outputs": []
    },
    {
      "cell_type": "code",
      "source": [
        "start_time = time.time()\n",
        "\n",
        "\n",
        "num_epochs = 50000\n",
        "for epoch in range(num_epochs):\n",
        "    \n",
        "    start = time.time()\n",
        "    \n",
        "    input_batch, target_batch = random_batch(batch_size, corpus)\n",
        "    \n",
        "    input_batch = torch.LongTensor(input_batch) #input_batch: [batch_size, 1]\n",
        "    \n",
        "    target_batch = torch.LongTensor(target_batch)   #target_batch: [batch_size, 1]\n",
        "    \n",
        "    negs_batch = negative_sampling(target_batch, unigram_table, num_neg) #negs_batch:   [batch_size, num_neg]\n",
        "    \n",
        "    optimizer.zero_grad()\n",
        "        \n",
        "    loss = model(input_batch, target_batch, negs_batch)\n",
        "    \n",
        "    end = time.time()\n",
        "    \n",
        "    epoch_mins, epoch_secs = epoch_time(start, end)\n",
        "    \n",
        "    loss.backward()\n",
        "    optimizer.step()\n",
        "\n",
        "    if (epoch + 1) % 1000 == 0:\n",
        "        print(f\"Epoch: {epoch + 1} | cost: {loss:.6f} | time: {epoch_mins}m {epoch_secs}s\")\n",
        "\n",
        "total_time = time.time() - start_time\n",
        "print('Total time:', total_time)"
      ],
      "metadata": {
        "colab": {
          "base_uri": "https://localhost:8080/"
        },
        "id": "dGUHfliZfp9h",
        "outputId": "f64a746b-1e41-4153-b87c-b1578b2eb9c4"
      },
      "execution_count": 64,
      "outputs": [
        {
          "output_type": "stream",
          "name": "stdout",
          "text": [
            "Epoch: 1000 | cost: 10.743319 | time: 0m 0s\n",
            "Epoch: 2000 | cost: 11.014664 | time: 0m 0s\n",
            "Epoch: 3000 | cost: 11.737379 | time: 0m 0s\n",
            "Epoch: 4000 | cost: 10.174293 | time: 0m 0s\n",
            "Epoch: 5000 | cost: 8.187181 | time: 0m 0s\n",
            "Epoch: 6000 | cost: 13.190911 | time: 0m 0s\n",
            "Epoch: 7000 | cost: 6.376983 | time: 0m 0s\n",
            "Epoch: 8000 | cost: 3.992865 | time: 0m 0s\n",
            "Epoch: 9000 | cost: 4.330481 | time: 0m 0s\n",
            "Epoch: 10000 | cost: 4.080146 | time: 0m 0s\n",
            "Epoch: 11000 | cost: 3.972530 | time: 0m 0s\n",
            "Epoch: 12000 | cost: 3.836729 | time: 0m 0s\n",
            "Epoch: 13000 | cost: 2.921414 | time: 0m 0s\n",
            "Epoch: 14000 | cost: 2.990092 | time: 0m 0s\n",
            "Epoch: 15000 | cost: 3.051463 | time: 0m 0s\n",
            "Epoch: 16000 | cost: 3.431411 | time: 0m 0s\n",
            "Epoch: 17000 | cost: 3.307876 | time: 0m 0s\n",
            "Epoch: 18000 | cost: 3.432061 | time: 0m 0s\n",
            "Epoch: 19000 | cost: 3.633675 | time: 0m 0s\n",
            "Epoch: 20000 | cost: 3.637931 | time: 0m 0s\n",
            "Epoch: 21000 | cost: 3.715853 | time: 0m 0s\n",
            "Epoch: 22000 | cost: 2.796283 | time: 0m 0s\n",
            "Epoch: 23000 | cost: 3.746274 | time: 0m 0s\n",
            "Epoch: 24000 | cost: 3.286725 | time: 0m 0s\n",
            "Epoch: 25000 | cost: 3.524835 | time: 0m 0s\n",
            "Epoch: 26000 | cost: 3.199465 | time: 0m 0s\n",
            "Epoch: 27000 | cost: 3.651374 | time: 0m 0s\n",
            "Epoch: 28000 | cost: 3.159696 | time: 0m 0s\n",
            "Epoch: 29000 | cost: 3.393952 | time: 0m 0s\n",
            "Epoch: 30000 | cost: 2.777059 | time: 0m 0s\n",
            "Epoch: 31000 | cost: 2.336893 | time: 0m 0s\n",
            "Epoch: 32000 | cost: 3.646850 | time: 0m 0s\n",
            "Epoch: 33000 | cost: 3.165915 | time: 0m 0s\n",
            "Epoch: 34000 | cost: 3.483203 | time: 0m 0s\n",
            "Epoch: 35000 | cost: 3.767177 | time: 0m 0s\n",
            "Epoch: 36000 | cost: 3.188383 | time: 0m 0s\n",
            "Epoch: 37000 | cost: 3.251683 | time: 0m 0s\n",
            "Epoch: 38000 | cost: 3.624250 | time: 0m 0s\n",
            "Epoch: 39000 | cost: 3.191015 | time: 0m 0s\n",
            "Epoch: 40000 | cost: 3.497387 | time: 0m 0s\n",
            "Epoch: 41000 | cost: 3.698786 | time: 0m 0s\n",
            "Epoch: 42000 | cost: 3.268652 | time: 0m 0s\n",
            "Epoch: 43000 | cost: 3.358688 | time: 0m 0s\n",
            "Epoch: 44000 | cost: 3.074336 | time: 0m 0s\n",
            "Epoch: 45000 | cost: 3.025249 | time: 0m 0s\n",
            "Epoch: 46000 | cost: 3.264943 | time: 0m 0s\n",
            "Epoch: 47000 | cost: 3.162982 | time: 0m 0s\n",
            "Epoch: 48000 | cost: 2.782430 | time: 0m 0s\n",
            "Epoch: 49000 | cost: 3.605772 | time: 0m 0s\n",
            "Epoch: 50000 | cost: 3.825123 | time: 0m 0s\n",
            "Total time: 63.25639510154724\n"
          ]
        }
      ]
    },
    {
      "cell_type": "markdown",
      "source": [
        "Embedding plotting"
      ],
      "metadata": {
        "id": "jmTkpMEEgYKO"
      }
    },
    {
      "cell_type": "code",
      "source": [
        "#write a function to get embedding given a word\n",
        "def get_embed(word):\n",
        "    id_tensor = torch.LongTensor([word2idx[word]])\n",
        "    v_embed = model.embedding_v(id_tensor)\n",
        "    u_embed = model.embedding_u(id_tensor) \n",
        "    word_embed = (v_embed + u_embed) / 2 \n",
        "    x, y = word_embed[0][0].item(), word_embed[0][1].item()\n",
        "\n",
        "    return x, y"
      ],
      "metadata": {
        "id": "A5wWHLbCgW1Z"
      },
      "execution_count": 65,
      "outputs": []
    },
    {
      "cell_type": "code",
      "source": [
        "plt.figure(figsize=(10,10))\n",
        "for i, word in enumerate(vocab[:50]): #loop each unique vocab\n",
        "    x, y = get_embed(word)\n",
        "    plt.scatter(x, y)\n",
        "    plt.annotate(word, xy=(x, y), xytext=(5, 2), textcoords='offset points')\n",
        "plt.show()\n"
      ],
      "metadata": {
        "colab": {
          "base_uri": "https://localhost:8080/",
          "height": 592
        },
        "id": "AkPHShy7gjPZ",
        "outputId": "fff88488-1723-4859-fb4d-494e8fb8699f"
      },
      "execution_count": 71,
      "outputs": [
        {
          "output_type": "display_data",
          "data": {
            "text/plain": [
              "<Figure size 720x720 with 1 Axes>"
            ],
            "image/png": "[encoded data removed]"
          },
          "metadata": {
            "needs_background": "light"
          }
        }
      ]
    },
    {
      "cell_type": "markdown",
      "source": [
        "Compared to the standard Skipgram, negative sampling required less time. The change may not be as noticeable because of my extremely small dataset."
      ],
      "metadata": {
        "id": "dxake-Txh0ie"
      }
    },
    {
      "cell_type": "markdown",
      "source": [
        "##CBOW"
      ],
      "metadata": {
        "id": "2FgwbeLciAlq"
      }
    },
    {
      "cell_type": "code",
      "source": [
        "cbow = []\n",
        "for sent in corpus_token:\n",
        "    # window size 2\n",
        "    for i in range(2, len(sent) - 2): \n",
        "        center_word = sent[i]\n",
        "        outside_words = [sent[i-2], sent[i-1], sent[i+1], sent[i+2]]\n",
        "        cbow.append([outside_words, center_word])"
      ],
      "metadata": {
        "id": "Pe9QcCISiFJb"
      },
      "execution_count": 72,
      "outputs": []
    },
    {
      "cell_type": "code",
      "source": [
        "def make_context_vector(outside_words, word2idx):\n",
        "    idxs = [word2idx[w] for w in outside_words]\n",
        "    return torch.tensor(idxs, dtype=torch.long)"
      ],
      "metadata": {
        "id": "61cTtO3UiQ8o"
      },
      "execution_count": 73,
      "outputs": []
    },
    {
      "cell_type": "code",
      "source": [
        "class CBOW(torch.nn.Module):\n",
        "    def __init__(self, vocab_size, embedding_size):\n",
        "        super(CBOW, self).__init__()\n",
        "\n",
        "        self.embedding = nn.Embedding(vocab_size, embedding_size)\n",
        "        self.linear = nn.Linear(embedding_size, vocab_size)\n",
        "        self.act_func = nn.LogSoftmax(dim = -1)\n",
        "        \n",
        "    def forward(self, inputs):\n",
        "        embed = sum(self.embedding(inputs)).view(1,-1)\n",
        "        outside = self.linear(embed)\n",
        "        outside = self.act_func(outside)\n",
        "        return outside"
      ],
      "metadata": {
        "id": "GcgozLJ6iXTg"
      },
      "execution_count": 74,
      "outputs": []
    },
    {
      "cell_type": "markdown",
      "source": [
        "Training"
      ],
      "metadata": {
        "id": "3HfmfIliirB9"
      }
    },
    {
      "cell_type": "code",
      "source": [
        "embedding_size = 2"
      ],
      "metadata": {
        "id": "oCuq4Qc0jdDw"
      },
      "execution_count": 75,
      "outputs": []
    },
    {
      "cell_type": "code",
      "source": [
        "len(vocab)"
      ],
      "metadata": {
        "colab": {
          "base_uri": "https://localhost:8080/"
        },
        "id": "Ru0Rzvdxjx6U",
        "outputId": "d072b64a-5d99-438a-98df-e9dc5240f472"
      },
      "execution_count": 76,
      "outputs": [
        {
          "output_type": "execute_result",
          "data": {
            "text/plain": [
              "95"
            ]
          },
          "metadata": {},
          "execution_count": 76
        }
      ]
    },
    {
      "cell_type": "code",
      "source": [
        "model = CBOW(vocab_size, embedding_size)\n",
        "model"
      ],
      "metadata": {
        "colab": {
          "base_uri": "https://localhost:8080/"
        },
        "id": "zhJZ4U8HiuAe",
        "outputId": "74efb323-31f4-4dd1-ecf7-8f19e55613d5"
      },
      "execution_count": 79,
      "outputs": [
        {
          "output_type": "execute_result",
          "data": {
            "text/plain": [
              "CBOW(\n",
              "  (embedding): Embedding(94, 2)\n",
              "  (linear): Linear(in_features=2, out_features=94, bias=True)\n",
              "  (act_func): LogSoftmax(dim=-1)\n",
              ")"
            ]
          },
          "metadata": {},
          "execution_count": 79
        }
      ]
    },
    {
      "cell_type": "code",
      "source": [
        "loss_function = nn.NLLLoss()\n",
        "optimizer = torch.optim.SGD(model.parameters(), lr=0.001)"
      ],
      "metadata": {
        "id": "5JJXD6F9ku7S"
      },
      "execution_count": 80,
      "outputs": []
    },
    {
      "cell_type": "code",
      "source": [
        "epochs = 50000\n",
        "\n",
        "train_start = time.time()\n",
        "\n",
        "for epoch in range(epochs):\n",
        "\n",
        "    start = time.time()\n",
        "    \n",
        "    loss = 0\n",
        "    for context, target in cbow:\n",
        "        context_vector = make_context_vector(context, word2idx)  \n",
        "\n",
        "        log_probs = model(context_vector)\n",
        "\n",
        "        loss += loss_function(log_probs, torch.tensor([word2idx[target]]))\n",
        "\n",
        "    #optimize at the end of each epoch\n",
        "    \n",
        "    optimizer.zero_grad()\n",
        "    \n",
        "    end = time.time()\n",
        "    \n",
        "    epoch_mins, epoch_secs = epoch_time(start, end)\n",
        "    \n",
        "    loss.backward()\n",
        "    optimizer.step()\n",
        "    \n",
        "    if (epoch + 1) % 1000 == 0:\n",
        "        print(f\"Epoch: {epoch + 1} | cost: {loss:.5f} | time: {epoch_mins}m {epoch_secs}s\")\n",
        "\n",
        "total = time.time() - train_start\n",
        "print('Total time:', total)"
      ],
      "metadata": {
        "colab": {
          "base_uri": "https://localhost:8080/"
        },
        "id": "QZqDvZvlkyzj",
        "outputId": "60dca1d1-e8df-4f6e-e02e-05644dd44cd9"
      },
      "execution_count": 81,
      "outputs": [
        {
          "output_type": "stream",
          "name": "stdout",
          "text": [
            "Epoch: 1000 | cost: 216.58891 | time: 0m 0s\n",
            "Epoch: 2000 | cost: 174.49069 | time: 0m 0s\n",
            "Epoch: 3000 | cost: 150.35609 | time: 0m 0s\n",
            "Epoch: 4000 | cost: 132.95381 | time: 0m 0s\n",
            "Epoch: 5000 | cost: 119.82791 | time: 0m 0s\n",
            "Epoch: 6000 | cost: 109.38228 | time: 0m 0s\n",
            "Epoch: 7000 | cost: 100.68503 | time: 0m 0s\n",
            "Epoch: 8000 | cost: 93.23474 | time: 0m 0s\n",
            "Epoch: 9000 | cost: 86.70608 | time: 0m 0s\n",
            "Epoch: 10000 | cost: 80.89675 | time: 0m 0s\n",
            "Epoch: 11000 | cost: 75.68774 | time: 0m 0s\n",
            "Epoch: 12000 | cost: 71.00372 | time: 0m 0s\n",
            "Epoch: 13000 | cost: 66.78941 | time: 0m 0s\n",
            "Epoch: 14000 | cost: 62.99328 | time: 0m 0s\n",
            "Epoch: 15000 | cost: 59.55957 | time: 0m 0s\n",
            "Epoch: 16000 | cost: 56.43153 | time: 0m 0s\n",
            "Epoch: 17000 | cost: 53.55752 | time: 0m 0s\n",
            "Epoch: 18000 | cost: 50.89465 | time: 0m 0s\n",
            "Epoch: 19000 | cost: 48.41234 | time: 0m 0s\n",
            "Epoch: 20000 | cost: 46.09330 | time: 0m 0s\n",
            "Epoch: 21000 | cost: 43.92521 | time: 0m 0s\n",
            "Epoch: 22000 | cost: 41.89355 | time: 0m 0s\n",
            "Epoch: 23000 | cost: 39.98200 | time: 0m 0s\n",
            "Epoch: 24000 | cost: 38.17551 | time: 0m 0s\n",
            "Epoch: 25000 | cost: 36.46358 | time: 0m 0s\n",
            "Epoch: 26000 | cost: 34.84200 | time: 0m 0s\n",
            "Epoch: 27000 | cost: 33.30983 | time: 0m 0s\n",
            "Epoch: 28000 | cost: 31.86552 | time: 0m 0s\n",
            "Epoch: 29000 | cost: 30.50537 | time: 0m 0s\n",
            "Epoch: 30000 | cost: 29.22445 | time: 0m 0s\n",
            "Epoch: 31000 | cost: 28.01757 | time: 0m 0s\n",
            "Epoch: 32000 | cost: 26.87994 | time: 0m 0s\n",
            "Epoch: 33000 | cost: 25.80725 | time: 0m 0s\n",
            "Epoch: 34000 | cost: 24.79555 | time: 0m 0s\n",
            "Epoch: 35000 | cost: 23.84113 | time: 0m 0s\n",
            "Epoch: 36000 | cost: 22.94044 | time: 0m 0s\n",
            "Epoch: 37000 | cost: 22.09013 | time: 0m 0s\n",
            "Epoch: 38000 | cost: 21.28696 | time: 0m 0s\n",
            "Epoch: 39000 | cost: 20.52767 | time: 0m 0s\n",
            "Epoch: 40000 | cost: 19.80939 | time: 0m 0s\n",
            "Epoch: 41000 | cost: 19.12914 | time: 0m 0s\n",
            "Epoch: 42000 | cost: 18.48442 | time: 0m 0s\n",
            "Epoch: 43000 | cost: 17.87267 | time: 0m 0s\n",
            "Epoch: 44000 | cost: 17.29167 | time: 0m 0s\n",
            "Epoch: 45000 | cost: 16.73933 | time: 0m 0s\n",
            "Epoch: 46000 | cost: 16.21381 | time: 0m 0s\n",
            "Epoch: 47000 | cost: 15.71337 | time: 0m 0s\n",
            "Epoch: 48000 | cost: 15.23650 | time: 0m 0s\n",
            "Epoch: 49000 | cost: 14.78172 | time: 0m 0s\n",
            "Epoch: 50000 | cost: 14.34774 | time: 0m 0s\n",
            "Total time: 1322.3223054409027\n"
          ]
        }
      ]
    },
    {
      "cell_type": "markdown",
      "source": [
        "CBOW training is long time processing"
      ],
      "metadata": {
        "id": "7D-QjCbGn49j"
      }
    }
  ]
}