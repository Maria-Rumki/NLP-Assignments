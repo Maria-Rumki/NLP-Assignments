{
  "nbformat": 4,
  "nbformat_minor": 0,
  "metadata": {
    "colab": {
      "provenance": [],
      "authorship_tag": "ABX9TyMOXkiQIM2wESv3zu2A3sbI",
      "include_colab_link": true
    },
    "kernelspec": {
      "name": "python3",
      "display_name": "Python 3"
    },
    "language_info": {
      "name": "python"
    },
    "accelerator": "GPU",
    "gpuClass": "standard"
  },
  "cells": [
    {
      "cell_type": "markdown",
      "metadata": {
        "id": "view-in-github",
        "colab_type": "text"
      },
      "source": [
        "<a href=\"https://colab.research.google.com/github/Maria-Rumki/NLP-Assignments/blob/main/%2019%20Jan%20-%20GloVe.ipynb\" target=\"_parent\"><img src=\"https://colab.research.google.com/assets/colab-badge.svg\" alt=\"Open In Colab\"/></a>"
      ]
    },
    {
      "cell_type": "markdown",
      "source": [
        "Assignment\n",
        "Constraint: Only use our code (not other code....)\n",
        "\n",
        "1. I guess you already try a bigger corpus\n",
        "2. I guess you already try window size 2\n",
        "3. I guess you already have skipgram, skipgram(neg), cbow, glove\n",
        "\n",
        "Do this:\n",
        "\n",
        "1. Compare them based on syntactic accuracy and semantic accuracy, similar to how is done in https://nlp.stanford.edu/pubs/glove.pdf (see Table 2) - NO NEED to try 1000 or 300 embed size.....I just want you to learn how to do experiment.....\n",
        "2. Try to find a correlation with just ONE similarity dataset (which humans judge how similar is two words.....)\n",
        "\n",
        "Point criteria: \n",
        "\n",
        "0: Not done \n",
        "\n",
        "1: ok \n",
        "\n",
        "2: with comments / explanation / figures just like how Chaky explain thing....."
      ],
      "metadata": {
        "id": "1K4OHJuQeRDA"
      }
    },
    {
      "cell_type": "code",
      "source": [
        "import numpy as np\n",
        "import torch\n",
        "import torch.nn as nn\n",
        "import torch.optim as optim\n",
        "import matplotlib.pyplot as plt"
      ],
      "metadata": {
        "id": "mLYUbTHsn2X0"
      },
      "execution_count": 511,
      "outputs": []
    },
    {
      "cell_type": "code",
      "source": [
        "np.__version__, torch.__version__"
      ],
      "metadata": {
        "colab": {
          "base_uri": "https://localhost:8080/"
        },
        "id": "UMyHa9NkoMM0",
        "outputId": "3df170ab-e0f9-48a9-e50c-18975428e76a"
      },
      "execution_count": 512,
      "outputs": [
        {
          "output_type": "execute_result",
          "data": {
            "text/plain": [
              "('1.22.4', '1.13.1+cu116')"
            ]
          },
          "metadata": {},
          "execution_count": 512
        }
      ]
    },
    {
      "cell_type": "code",
      "source": [
        "import matplotlib\n",
        "matplotlib.__version__"
      ],
      "metadata": {
        "colab": {
          "base_uri": "https://localhost:8080/",
          "height": 36
        },
        "id": "9sbkfh3-oV6U",
        "outputId": "2d687f6b-e876-4fd0-8a4f-d3e2f9b5f6d3"
      },
      "execution_count": 513,
      "outputs": [
        {
          "output_type": "execute_result",
          "data": {
            "text/plain": [
              "'3.5.3'"
            ],
            "application/vnd.google.colaboratory.intrinsic+json": {
              "type": "string"
            }
          },
          "metadata": {},
          "execution_count": 513
        }
      ]
    },
    {
      "cell_type": "markdown",
      "source": [
        "Loading Data\n"
      ],
      "metadata": {
        "id": "mEZ_hve4s80g"
      }
    },
    {
      "cell_type": "code",
      "source": [
        "# defining corpus\n",
        "\n",
        "with open('capital-world.txt') as txt:\n",
        "    corpus = [line.strip() for line in txt.readlines() if line[0] != ':']\n"
      ],
      "metadata": {
        "id": "8fSvdO2ktCC_"
      },
      "execution_count": 514,
      "outputs": []
    },
    {
      "cell_type": "code",
      "source": [
        "print(corpus[:10])"
      ],
      "metadata": {
        "colab": {
          "base_uri": "https://localhost:8080/"
        },
        "id": "dKYlC5TI83IX",
        "outputId": "ccc3ee6d-8edd-4bae-b631-f846564ca44c"
      },
      "execution_count": 515,
      "outputs": [
        {
          "output_type": "stream",
          "name": "stdout",
          "text": [
            "['abuja nigeria accra ghana', 'abuja nigeria algiers algeria', 'abuja nigeria amman jordan', 'abuja nigeria ankara turkey', 'abuja nigeria antananarivo madagascar', 'abuja nigeria apia samoa', 'abuja nigeria ashgabat turkmenistan', 'abuja nigeria asmara eritrea', 'abuja nigeria astana kazakhstan', 'abuja nigeria athens greece']\n"
          ]
        }
      ]
    },
    {
      "cell_type": "code",
      "source": [
        "# tokenization\n",
        "\n",
        "corpus_tokenized = [sent.split(\" \") for sent in corpus]\n",
        "corpus_tokenized[:15]  # we called each of this as \"tokens\", NOT words"
      ],
      "metadata": {
        "colab": {
          "base_uri": "https://localhost:8080/"
        },
        "id": "xDYS2BLS_CNQ",
        "outputId": "aff4dd56-5f62-4d6c-910e-9d20c4cb0f16"
      },
      "execution_count": 516,
      "outputs": [
        {
          "output_type": "execute_result",
          "data": {
            "text/plain": [
              "[['abuja', 'nigeria', 'accra', 'ghana'],\n",
              " ['abuja', 'nigeria', 'algiers', 'algeria'],\n",
              " ['abuja', 'nigeria', 'amman', 'jordan'],\n",
              " ['abuja', 'nigeria', 'ankara', 'turkey'],\n",
              " ['abuja', 'nigeria', 'antananarivo', 'madagascar'],\n",
              " ['abuja', 'nigeria', 'apia', 'samoa'],\n",
              " ['abuja', 'nigeria', 'ashgabat', 'turkmenistan'],\n",
              " ['abuja', 'nigeria', 'asmara', 'eritrea'],\n",
              " ['abuja', 'nigeria', 'astana', 'kazakhstan'],\n",
              " ['abuja', 'nigeria', 'athens', 'greece'],\n",
              " ['abuja', 'nigeria', 'baghdad', 'iraq'],\n",
              " ['abuja', 'nigeria', 'baku', 'azerbaijan'],\n",
              " ['abuja', 'nigeria', 'bamako', 'mali'],\n",
              " ['abuja', 'nigeria', 'bangkok', 'thailand'],\n",
              " ['abuja', 'nigeria', 'banjul', 'gambia']]"
            ]
          },
          "metadata": {},
          "execution_count": 516
        }
      ]
    },
    {
      "cell_type": "code",
      "source": [
        "# numericalization\n",
        "\n",
        "# getting all the unique words\n",
        "# we want to flatten this (basically merge all list)\n",
        "\n",
        "flatten = lambda l: [item for sublist in l for item in sublist]\n",
        "vocabs  = list(set(flatten(corpus_tokenized)))  # vocabs is a term defining all unique words your system know"
      ],
      "metadata": {
        "id": "HBgJfxbhBTJQ"
      },
      "execution_count": 517,
      "outputs": []
    },
    {
      "cell_type": "code",
      "source": [
        "vocabs[:15]"
      ],
      "metadata": {
        "colab": {
          "base_uri": "https://localhost:8080/"
        },
        "id": "5JLrobF-BZWG",
        "outputId": "831dd31f-1fc5-47a9-8538-ccd4cceaa324"
      },
      "execution_count": 518,
      "outputs": [
        {
          "output_type": "execute_result",
          "data": {
            "text/plain": [
              "['santiago',\n",
              " 'china',\n",
              " 'kazakhstan',\n",
              " 'indonesia',\n",
              " 'botswana',\n",
              " 'kigali',\n",
              " 'tashkent',\n",
              " 'belgium',\n",
              " 'slovakia',\n",
              " 'uzbekistan',\n",
              " 'lebanon',\n",
              " 'burundi',\n",
              " 'harare',\n",
              " 'thimphu',\n",
              " 'honduras']"
            ]
          },
          "metadata": {},
          "execution_count": 518
        }
      ]
    },
    {
      "cell_type": "code",
      "source": [
        "\n",
        "# checking the length of the vocab\n",
        "\n",
        "len(vocabs)"
      ],
      "metadata": {
        "colab": {
          "base_uri": "https://localhost:8080/"
        },
        "id": "EzS-lAkwBbc_",
        "outputId": "db35f7ab-8c84-469c-a395-757787afe2f0"
      },
      "execution_count": 519,
      "outputs": [
        {
          "output_type": "execute_result",
          "data": {
            "text/plain": [
              "232"
            ]
          },
          "metadata": {},
          "execution_count": 519
        }
      ]
    },
    {
      "cell_type": "code",
      "source": [
        "# assigning id to all these vocabs\n",
        "\n",
        "word2index = {v: idx for idx, v in enumerate(vocabs)}"
      ],
      "metadata": {
        "id": "PA_29viGBfNX"
      },
      "execution_count": 520,
      "outputs": []
    },
    {
      "cell_type": "code",
      "source": [
        "word2index['china']"
      ],
      "metadata": {
        "colab": {
          "base_uri": "https://localhost:8080/"
        },
        "id": "IWdFtE0YHZOZ",
        "outputId": "b3eb7b7b-bfcc-47ec-a398-96c82c247b30"
      },
      "execution_count": 521,
      "outputs": [
        {
          "output_type": "execute_result",
          "data": {
            "text/plain": [
              "1"
            ]
          },
          "metadata": {},
          "execution_count": 521
        }
      ]
    },
    {
      "cell_type": "code",
      "source": [
        "# adding , which is a very normal token exists in the world\n",
        "\n",
        "vocabs.append('')"
      ],
      "metadata": {
        "id": "zO2CJ8BLHojA"
      },
      "execution_count": 522,
      "outputs": []
    },
    {
      "cell_type": "code",
      "source": [
        "# now we have a way to know what is the id of \n",
        "\n",
        "word2index[''] = 232"
      ],
      "metadata": {
        "id": "1C9-HaSEHpRO"
      },
      "execution_count": 523,
      "outputs": []
    },
    {
      "cell_type": "code",
      "source": [
        "# creating index2word dictionary\n",
        "   \n",
        "index2word = {v:k for k, v in word2index.items()}\n",
        "index2word[2]"
      ],
      "metadata": {
        "colab": {
          "base_uri": "https://localhost:8080/",
          "height": 36
        },
        "id": "qFqd6cz0Hx8-",
        "outputId": "56eb5341-141a-40f5-d586-557be64cf63c"
      },
      "execution_count": 524,
      "outputs": [
        {
          "output_type": "execute_result",
          "data": {
            "text/plain": [
              "'kazakhstan'"
            ],
            "application/vnd.google.colaboratory.intrinsic+json": {
              "type": "string"
            }
          },
          "metadata": {},
          "execution_count": 524
        }
      ]
    },
    {
      "cell_type": "code",
      "source": [
        "vocabs[:15]"
      ],
      "metadata": {
        "colab": {
          "base_uri": "https://localhost:8080/"
        },
        "id": "mmum7UTSHyqf",
        "outputId": "4c7b36d8-4434-4243-e5b0-d9ae4f692752"
      },
      "execution_count": 525,
      "outputs": [
        {
          "output_type": "execute_result",
          "data": {
            "text/plain": [
              "['santiago',\n",
              " 'china',\n",
              " 'kazakhstan',\n",
              " 'indonesia',\n",
              " 'botswana',\n",
              " 'kigali',\n",
              " 'tashkent',\n",
              " 'belgium',\n",
              " 'slovakia',\n",
              " 'uzbekistan',\n",
              " 'lebanon',\n",
              " 'burundi',\n",
              " 'harare',\n",
              " 'thimphu',\n",
              " 'honduras']"
            ]
          },
          "metadata": {},
          "execution_count": 525
        }
      ]
    },
    {
      "cell_type": "markdown",
      "source": [
        "**Skipgram**"
      ],
      "metadata": {
        "id": "GsgW4-BpH4gn"
      }
    },
    {
      "cell_type": "code",
      "source": [
        "# moving along the corpus\n",
        "# using window_size = 1\n",
        "\n",
        "skipgrams = []\n",
        "\n",
        "#for each corpus\n",
        "for sent in corpus_tokenized:\n",
        "    for i in range(1, len(sent) - 1): # start from 1 to second last\n",
        "        center_word = sent[i]\n",
        "        outside_words = [sent[i-1], sent[i+1]]  # window_size = 1\n",
        "        for o in outside_words:\n",
        "            skipgrams.append([center_word, o])\n",
        "\n",
        "skipgrams[:15]\n",
        "        \n",
        "# here we want to create ('wrenley', 'raya'), ('wrenley', 'angelique') append to some list"
      ],
      "metadata": {
        "colab": {
          "base_uri": "https://localhost:8080/"
        },
        "id": "MWYIW8TVH70u",
        "outputId": "d7e05d56-1ee7-4d97-b369-9389f3db73c7"
      },
      "execution_count": 526,
      "outputs": [
        {
          "output_type": "execute_result",
          "data": {
            "text/plain": [
              "[['nigeria', 'abuja'],\n",
              " ['nigeria', 'accra'],\n",
              " ['accra', 'nigeria'],\n",
              " ['accra', 'ghana'],\n",
              " ['nigeria', 'abuja'],\n",
              " ['nigeria', 'algiers'],\n",
              " ['algiers', 'nigeria'],\n",
              " ['algiers', 'algeria'],\n",
              " ['nigeria', 'abuja'],\n",
              " ['nigeria', 'amman'],\n",
              " ['amman', 'nigeria'],\n",
              " ['amman', 'jordan'],\n",
              " ['nigeria', 'abuja'],\n",
              " ['nigeria', 'ankara'],\n",
              " ['ankara', 'nigeria']]"
            ]
          },
          "metadata": {},
          "execution_count": 526
        }
      ]
    },
    {
      "cell_type": "code",
      "source": [
        "def random_batch(batch_size, corpus):\n",
        "    \n",
        "    skipgrams = []\n",
        "\n",
        "    # for each corpus\n",
        "    for sent in corpus_tokenized:\n",
        "        # for each sent [\"Athens\", \"Greece\", \"Baghdad\", \"Iraq\"]\n",
        "        for i in range(1, len(sent) - 1): # start from 1 to second last\n",
        "            center_word = word2index[sent[i]]\n",
        "            outside_words = [word2index[sent[i-1]], word2index[sent[i+1]]]  # window_size = 1\n",
        "            for o in outside_words:\n",
        "                skipgrams.append([center_word, o])\n",
        "                \n",
        "    # only getting a batch, not the entire list\n",
        "    random_index = np.random.choice(range(len(skipgrams)), batch_size, replace=False)\n",
        "             \n",
        "    # appending some list of inputs and labels\n",
        "    random_inputs, random_labels = [], []   \n",
        "    for index in random_index:\n",
        "        random_inputs.append([skipgrams[index][0]])  # center words, this will be a shape of (1, ) --> (1, 1) for modeling\n",
        "        random_labels.append([skipgrams[index][1]])\n",
        "        \n",
        "    return np.array(random_inputs), np.array(random_labels)\n",
        "     "
      ],
      "metadata": {
        "id": "GD9HdQULIUhm"
      },
      "execution_count": 527,
      "outputs": []
    },
    {
      "cell_type": "code",
      "source": [
        "random_batch(10, corpus_tokenized)"
      ],
      "metadata": {
        "colab": {
          "base_uri": "https://localhost:8080/"
        },
        "id": "q13GGWYxIVv2",
        "outputId": "53f8c165-4a67-42e0-f654-df19abcd8ab1"
      },
      "execution_count": 528,
      "outputs": [
        {
          "output_type": "execute_result",
          "data": {
            "text/plain": [
              "(array([[ 35],\n",
              "        [ 95],\n",
              "        [133],\n",
              "        [149],\n",
              "        [154],\n",
              "        [ 60],\n",
              "        [ 16],\n",
              "        [ 33],\n",
              "        [ 50],\n",
              "        [188]]), array([[ 20],\n",
              "        [166],\n",
              "        [ 15],\n",
              "        [196],\n",
              "        [ 19],\n",
              "        [192],\n",
              "        [  0],\n",
              "        [123],\n",
              "        [225],\n",
              "        [226]]))"
            ]
          },
          "metadata": {},
          "execution_count": 528
        }
      ]
    },
    {
      "cell_type": "markdown",
      "source": [
        "Testing the Method\n"
      ],
      "metadata": {
        "id": "eJ7nsGvwIg7o"
      }
    },
    {
      "cell_type": "code",
      "source": [
        "input, label = random_batch(2, corpus_tokenized)\n",
        "\n",
        "print(f\"{input=}\")\n",
        "print(f\"{label=}\")"
      ],
      "metadata": {
        "colab": {
          "base_uri": "https://localhost:8080/"
        },
        "id": "6ZXagYaRImUO",
        "outputId": "b98c655a-f81a-4ffb-abfb-a67221b1fdbb"
      },
      "execution_count": 529,
      "outputs": [
        {
          "output_type": "stream",
          "name": "stdout",
          "text": [
            "input=array([[186],\n",
            "       [  6]])\n",
            "label=array([[10],\n",
            "       [ 9]])\n"
          ]
        }
      ]
    },
    {
      "cell_type": "code",
      "source": [
        "input, label = random_batch(1, corpus_tokenized)\n",
        "\n",
        "print(f\"{input=}\")\n",
        "print(f\"{label=}\")"
      ],
      "metadata": {
        "colab": {
          "base_uri": "https://localhost:8080/"
        },
        "id": "6vSMfNr7Ip-G",
        "outputId": "4064daa5-0b06-4ee3-89d5-7228b2f980d1"
      },
      "execution_count": 530,
      "outputs": [
        {
          "output_type": "stream",
          "name": "stdout",
          "text": [
            "input=array([[30]])\n",
            "label=array([[214]])\n"
          ]
        }
      ]
    },
    {
      "cell_type": "code",
      "source": [
        "input, label = random_batch(10, corpus_tokenized)\n",
        "\n",
        "print(f\"{input.shape}\")\n",
        "print(f\"{label=}\")"
      ],
      "metadata": {
        "colab": {
          "base_uri": "https://localhost:8080/"
        },
        "id": "oy3uwa7eIr1f",
        "outputId": "e0b52817-8471-4c80-c99d-e0750a5649cb"
      },
      "execution_count": 531,
      "outputs": [
        {
          "output_type": "stream",
          "name": "stdout",
          "text": [
            "(10, 1)\n",
            "label=array([[144],\n",
            "       [228],\n",
            "       [ 56],\n",
            "       [128],\n",
            "       [ 21],\n",
            "       [137],\n",
            "       [200],\n",
            "       [133],\n",
            "       [207],\n",
            "       [149]])\n"
          ]
        }
      ]
    },
    {
      "cell_type": "markdown",
      "source": [
        "Modeling"
      ],
      "metadata": {
        "id": "D5UkoCr_Ixim"
      }
    },
    {
      "cell_type": "code",
      "source": [
        "voc_size = len(vocabs)\n",
        "voc_size"
      ],
      "metadata": {
        "colab": {
          "base_uri": "https://localhost:8080/"
        },
        "id": "iOfQ1psiIvEw",
        "outputId": "314dccbf-6586-4e46-f68e-3c0807996f87"
      },
      "execution_count": 532,
      "outputs": [
        {
          "output_type": "execute_result",
          "data": {
            "text/plain": [
              "233"
            ]
          },
          "metadata": {},
          "execution_count": 532
        }
      ]
    },
    {
      "cell_type": "code",
      "source": [
        "vocabs[:15]"
      ],
      "metadata": {
        "colab": {
          "base_uri": "https://localhost:8080/"
        },
        "id": "7s5SLl8xI0qv",
        "outputId": "cdf5cecf-55c6-4227-840d-7246a94eb8c1"
      },
      "execution_count": 533,
      "outputs": [
        {
          "output_type": "execute_result",
          "data": {
            "text/plain": [
              "['santiago',\n",
              " 'china',\n",
              " 'kazakhstan',\n",
              " 'indonesia',\n",
              " 'botswana',\n",
              " 'kigali',\n",
              " 'tashkent',\n",
              " 'belgium',\n",
              " 'slovakia',\n",
              " 'uzbekistan',\n",
              " 'lebanon',\n",
              " 'burundi',\n",
              " 'harare',\n",
              " 'thimphu',\n",
              " 'honduras']"
            ]
          },
          "metadata": {},
          "execution_count": 533
        }
      ]
    },
    {
      "cell_type": "code",
      "source": [
        "# the model will accept three vectors - u_o, v_c, u_w\n",
        "# u_o - vector for outside words\n",
        "# v_c - vector for center word\n",
        "# u_w - vectors of all vocabs\n",
        "\n",
        "class Skipgram(nn.Module):\n",
        "    \n",
        "    def __init__(self, voc_size, emb_size):\n",
        "        super(Skipgram, self).__init__()\n",
        "        self.embedding_center_word  = nn.Embedding(voc_size, emb_size)  # it is a lookup table mapping all ids in voc_size, into some vector of size emb_size\n",
        "        self.embedding_outside_word = nn.Embedding(voc_size, emb_size)\n",
        "    \n",
        "    def forward(self, center_word, outside_word, all_vocabs):\n",
        "      \n",
        "        # center_word, outside_word: (batch_size, 1)\n",
        "        # all_vocabs: (batch_size, voc_size)\n",
        "        \n",
        "        # converting them into embedding\n",
        "        center_word_embed  = self.embedding_center_word(center_word)     # (batch_size, 1, emb_size)\n",
        "        outside_word_embed = self.embedding_outside_word(outside_word)   # (batch_size, 1, emb_size)\n",
        "        all_vocabs_embed   = self.embedding_outside_word(all_vocabs)     # (batch_size, voc_size, emb_size)\n",
        "        \n",
        "        # bmm is basically @ or .dot , but across batches (i.e., ignore the batch dimension)\n",
        "        top_term = outside_word_embed.bmm(center_word_embed.transpose(1, 2)).squeeze(2)\n",
        "        # (batch_size, 1, emb_size) @ (batch_size, emb_size, 1) = (batch_size, 1, 1) ===> (batch_size, 1)\n",
        "        \n",
        "        top_term_exp = torch.exp(top_term)  # exp(uo vc)\n",
        "        # (batch_size, 1)\n",
        "        \n",
        "        lower_term = all_vocabs_embed.bmm(center_word_embed.transpose(1, 2)).squeeze(2)\n",
        "         # (batch_size, voc_size, emb_size) @ (batch_size, emb_size, 1) = (batch_size, voc_size, 1) = (batch_size, voc_size)\n",
        "         \n",
        "        lower_term_sum = torch.sum(torch.exp(lower_term), 1) #sum exp(uw vc)\n",
        "        # (batch_size, 1)\n",
        "        \n",
        "        loss_fn = -torch.mean(torch.log(top_term_exp / lower_term_sum))\n",
        "        # (batch_size, 1) / (batch_size, 1) ==mean==> scalar\n",
        "        \n",
        "        return loss_fn"
      ],
      "metadata": {
        "id": "uTwv6ZmeI3Wu"
      },
      "execution_count": 534,
      "outputs": []
    },
    {
      "cell_type": "code",
      "source": [
        "# preparing all_vocabs\n",
        "\n",
        "batch_size = 2\n",
        "\n",
        "def prepare_sequence(seq, word2index):\n",
        "    # map(function, list of something)\n",
        "    # map will look at each of element in this list, and apply this function\n",
        "    idxs = list(map(lambda w: word2index[w] if word2index.get(w) is not None else word2index[\"\"], seq))\n",
        "    return torch.LongTensor(idxs)\n",
        "\n",
        "all_vocabs = prepare_sequence(list(vocabs), word2index).expand(batch_size, voc_size)\n",
        "all_vocabs.shape"
      ],
      "metadata": {
        "colab": {
          "base_uri": "https://localhost:8080/"
        },
        "id": "Ch6oi1w1JJ5e",
        "outputId": "18c9fe39-b6d6-49a6-c41b-b615bcb2d968"
      },
      "execution_count": 535,
      "outputs": [
        {
          "output_type": "execute_result",
          "data": {
            "text/plain": [
              "torch.Size([2, 233])"
            ]
          },
          "metadata": {},
          "execution_count": 535
        }
      ]
    },
    {
      "cell_type": "code",
      "source": [
        "voc_size"
      ],
      "metadata": {
        "colab": {
          "base_uri": "https://localhost:8080/"
        },
        "id": "EEwXV-8LJONX",
        "outputId": "17a24676-3402-4014-c46f-97921c056e42"
      },
      "execution_count": 536,
      "outputs": [
        {
          "output_type": "execute_result",
          "data": {
            "text/plain": [
              "233"
            ]
          },
          "metadata": {},
          "execution_count": 536
        }
      ]
    },
    {
      "cell_type": "code",
      "source": [
        "input, label = random_batch(2, corpus_tokenized)\n",
        "input # center word"
      ],
      "metadata": {
        "colab": {
          "base_uri": "https://localhost:8080/"
        },
        "id": "IbBiX8n8JQUG",
        "outputId": "074a492e-c885-4ae1-f368-4ae48eae984c"
      },
      "execution_count": 537,
      "outputs": [
        {
          "output_type": "execute_result",
          "data": {
            "text/plain": [
              "array([[18],\n",
              "       [47]])"
            ]
          },
          "metadata": {},
          "execution_count": 537
        }
      ]
    },
    {
      "cell_type": "code",
      "source": [
        "label # context word"
      ],
      "metadata": {
        "colab": {
          "base_uri": "https://localhost:8080/"
        },
        "id": "dMJQFGPGJSjm",
        "outputId": "efecc29c-2ece-4efb-a1b2-5550c46984e3"
      },
      "execution_count": 538,
      "outputs": [
        {
          "output_type": "execute_result",
          "data": {
            "text/plain": [
              "array([[60],\n",
              "       [46]])"
            ]
          },
          "metadata": {},
          "execution_count": 538
        }
      ]
    },
    {
      "cell_type": "code",
      "source": [
        "voc_size"
      ],
      "metadata": {
        "colab": {
          "base_uri": "https://localhost:8080/"
        },
        "id": "EjsqunQYJWSm",
        "outputId": "a61ca948-2112-48ef-a392-33b89711cfb8"
      },
      "execution_count": 539,
      "outputs": [
        {
          "output_type": "execute_result",
          "data": {
            "text/plain": [
              "233"
            ]
          },
          "metadata": {},
          "execution_count": 539
        }
      ]
    },
    {
      "cell_type": "code",
      "source": [
        "emb_size = 2 # usually, this can be 50, 100, or 300\n",
        "model = Skipgram(voc_size, emb_size)"
      ],
      "metadata": {
        "id": "EV-9jJMqJgzI"
      },
      "execution_count": 540,
      "outputs": []
    },
    {
      "cell_type": "code",
      "source": [
        "input_tensor = torch.LongTensor(input)\n",
        "label_tensor = torch.LongTensor(label)  #LongTensor basically means integer...."
      ],
      "metadata": {
        "id": "oe9gAkuYJk7-"
      },
      "execution_count": 541,
      "outputs": []
    },
    {
      "cell_type": "code",
      "source": [
        "input_tensor.shape, label_tensor.shape"
      ],
      "metadata": {
        "colab": {
          "base_uri": "https://localhost:8080/"
        },
        "id": "VX68Cu_6JnC3",
        "outputId": "9b2723cb-9bbe-4b93-ec82-cccc8110c2d7"
      },
      "execution_count": 542,
      "outputs": [
        {
          "output_type": "execute_result",
          "data": {
            "text/plain": [
              "(torch.Size([2, 1]), torch.Size([2, 1]))"
            ]
          },
          "metadata": {},
          "execution_count": 542
        }
      ]
    },
    {
      "cell_type": "code",
      "source": [
        "loss = model(input_tensor, label_tensor, all_vocabs)"
      ],
      "metadata": {
        "id": "yx5XIDy9JosP"
      },
      "execution_count": 543,
      "outputs": []
    },
    {
      "cell_type": "code",
      "source": [
        "\n",
        "loss"
      ],
      "metadata": {
        "colab": {
          "base_uri": "https://localhost:8080/"
        },
        "id": "xj3_wKfeJrOQ",
        "outputId": "b1afc664-40df-4efc-fa07-9ca60b4c170c"
      },
      "execution_count": 544,
      "outputs": [
        {
          "output_type": "execute_result",
          "data": {
            "text/plain": [
              "tensor(6.1730, grad_fn=<NegBackward0>)"
            ]
          },
          "metadata": {},
          "execution_count": 544
        }
      ]
    },
    {
      "cell_type": "markdown",
      "source": [
        "Training"
      ],
      "metadata": {
        "id": "pOnhEVikJzmo"
      }
    },
    {
      "cell_type": "code",
      "source": [
        "batch_size = 2\n",
        "emb_size = 2\n",
        "model_skipgram = Skipgram(voc_size, emb_size)\n",
        "\n",
        "criterion = nn.CrossEntropyLoss()\n",
        "optimizer = optim.Adam(model_skipgram.parameters(), lr = 0.001)\n",
        "     "
      ],
      "metadata": {
        "id": "p-iyNMInJy05"
      },
      "execution_count": 545,
      "outputs": []
    },
    {
      "cell_type": "code",
      "source": [
        "def epoch_time(start_time, end_time):\n",
        "    elapsed_time = end_time - start_time\n",
        "    elapsed_mins = int(elapsed_time / 60)\n",
        "    elapsed_secs = int(elapsed_time - (elapsed_mins * 60))\n",
        "    return elapsed_mins, elapsed_secs"
      ],
      "metadata": {
        "id": "fUzrXOImJta4"
      },
      "execution_count": 546,
      "outputs": []
    },
    {
      "cell_type": "code",
      "source": [
        "import time\n",
        "\n",
        "init_time = time.time()\n",
        "\n",
        "# training\n",
        "num_epochs = 500\n",
        "for epoch in range(num_epochs):\n",
        "    \n",
        "    start_time = time.time()\n",
        "    \n",
        "    input_batch, target_batch = random_batch(batch_size, corpus)\n",
        "    input_batch  = torch.LongTensor(input_batch)  \n",
        "    target_batch = torch.LongTensor(target_batch) \n",
        "    # print(input_batch.shape)\n",
        "    # print(target_batch.shape)\n",
        "\n",
        "    optimizer.zero_grad()\n",
        "\n",
        "    # loss = model\n",
        "    loss = model(input_batch, target_batch, all_vocabs)\n",
        "    \n",
        "    # backpropagation\n",
        "    loss.backward()\n",
        "\n",
        "    # updating alpha\n",
        "    optimizer.step()\n",
        "    \n",
        "    epoch_time = time.time() - start_time\n",
        "\n",
        "    if (epoch + 1) % 100 == 0:\n",
        "        print(f\"Epoch: {epoch + 1} | cost: {loss:.6f} | time: {epoch_time}\") # printing epoch loss\n",
        "\n",
        "total_time = time.time() - init_time\n",
        "print('Total training time:', total_time)"
      ],
      "metadata": {
        "colab": {
          "base_uri": "https://localhost:8080/"
        },
        "id": "azPLamwgJ4dQ",
        "outputId": "81fc7731-9ee6-4f31-9eb2-144edac81e10"
      },
      "execution_count": 547,
      "outputs": [
        {
          "output_type": "stream",
          "name": "stdout",
          "text": [
            "Epoch: 100 | cost: 7.248770 | time: 0.01677083969116211\n",
            "Epoch: 200 | cost: 8.456260 | time: 0.009541988372802734\n",
            "Epoch: 300 | cost: 4.821965 | time: 0.00957036018371582\n",
            "Epoch: 400 | cost: 6.851594 | time: 0.07851076126098633\n",
            "Epoch: 500 | cost: 6.647005 | time: 0.029672622680664062\n",
            "Total training time: 13.081906080245972\n"
          ]
        }
      ]
    },
    {
      "cell_type": "markdown",
      "source": [
        "Plotting the Embeddings\n"
      ],
      "metadata": {
        "id": "0X0-niujJ-V_"
      }
    },
    {
      "cell_type": "code",
      "source": [
        "vocabs[:15]"
      ],
      "metadata": {
        "colab": {
          "base_uri": "https://localhost:8080/"
        },
        "id": "76l1fqlqJ7yG",
        "outputId": "69b9bd01-42fc-40a8-eae8-daa4b386ad3d"
      },
      "execution_count": 548,
      "outputs": [
        {
          "output_type": "execute_result",
          "data": {
            "text/plain": [
              "['santiago',\n",
              " 'china',\n",
              " 'kazakhstan',\n",
              " 'indonesia',\n",
              " 'botswana',\n",
              " 'kigali',\n",
              " 'tashkent',\n",
              " 'belgium',\n",
              " 'slovakia',\n",
              " 'uzbekistan',\n",
              " 'lebanon',\n",
              " 'burundi',\n",
              " 'harare',\n",
              " 'thimphu',\n",
              " 'honduras']"
            ]
          },
          "metadata": {},
          "execution_count": 548
        }
      ]
    },
    {
      "cell_type": "code",
      "source": [
        "kazakhstan = torch.LongTensor([word2index['kazakhstan']])\n",
        "kazakhstan\n",
        "     "
      ],
      "metadata": {
        "colab": {
          "base_uri": "https://localhost:8080/"
        },
        "id": "Xz_lUA7eKA31",
        "outputId": "c14dfb7c-741b-4acb-eedd-5691d4cbbb2c"
      },
      "execution_count": 549,
      "outputs": [
        {
          "output_type": "execute_result",
          "data": {
            "text/plain": [
              "tensor([2])"
            ]
          },
          "metadata": {},
          "execution_count": 549
        }
      ]
    },
    {
      "cell_type": "code",
      "source": [
        "kazakhstan_center_embed = model.embedding_center_word(kazakhstan)\n",
        "kazakhstan_outisde_embed = model.embedding_outside_word(kazakhstan)\n",
        "\n",
        "kazakhstan_embed = (kazakhstan_center_embed + kazakhstan_outisde_embed) / 2\n",
        "kazakhstan_embed"
      ],
      "metadata": {
        "colab": {
          "base_uri": "https://localhost:8080/"
        },
        "id": "Bni7gA8zKJLV",
        "outputId": "157bfcd7-f0f6-44f4-aca1-9ed2f27198b6"
      },
      "execution_count": 550,
      "outputs": [
        {
          "output_type": "execute_result",
          "data": {
            "text/plain": [
              "tensor([[0.1623, 0.4983]], grad_fn=<DivBackward0>)"
            ]
          },
          "metadata": {},
          "execution_count": 550
        }
      ]
    },
    {
      "cell_type": "code",
      "source": [
        "def get_embed(word):\n",
        "  \n",
        "    try:\n",
        "        index = word2index[word]\n",
        "    except:\n",
        "        index = word2index['']\n",
        "    \n",
        "    word = torch.LongTensor([index])\n",
        "\n",
        "    center_embed  = model.embedding_center_word(word)\n",
        "    outside_embed = model.embedding_outside_word(word)\n",
        "    \n",
        "    embed = (center_embed + outside_embed) / 2\n",
        "    \n",
        "    return  embed[0][0].item(), embed[0][1].item()"
      ],
      "metadata": {
        "id": "xEhoJRqgKsF2"
      },
      "execution_count": 551,
      "outputs": []
    },
    {
      "cell_type": "code",
      "source": [
        "\n",
        "# finding embedding of turkey, romania\n",
        "\n",
        "print(get_embed('turkey'))\n",
        "print(get_embed('romania'))"
      ],
      "metadata": {
        "colab": {
          "base_uri": "https://localhost:8080/"
        },
        "id": "9uwV9n6sKxzY",
        "outputId": "e5207fca-f575-48ef-b6b8-8180db401f11"
      },
      "execution_count": 552,
      "outputs": [
        {
          "output_type": "stream",
          "name": "stdout",
          "text": [
            "(-1.370731234550476, -0.21434199810028076)\n",
            "(-0.1090434342622757, -0.8933303952217102)\n"
          ]
        }
      ]
    },
    {
      "cell_type": "code",
      "source": [
        "# plotting the words \n",
        "\n",
        "plt.figure(figsize=(20,15))\n",
        "for i, word in enumerate(vocabs): # looping each unique vocab\n",
        "    x, y = get_embed(word)\n",
        "    plt.scatter(x, y)\n",
        "    plt.annotate(word, xy=(x, y), xytext=(5, 2), textcoords='offset points')\n",
        "plt.show()"
      ],
      "metadata": {
        "colab": {
          "base_uri": "https://localhost:8080/",
          "height": 863
        },
        "id": "_9Nh_U6NLBGa",
        "outputId": "dd90a774-7306-4911-dfaa-79c326717f62"
      },
      "execution_count": 553,
      "outputs": [
        {
          "output_type": "display_data",
          "data": {
            "text/plain": [
              "<Figure size 1440x1080 with 1 Axes>"
            ],
            "image/png": "[encoded data removed]"
          },
          "metadata": {
            "needs_background": "light"
          }
        }
      ]
    },
    {
      "cell_type": "markdown",
      "source": [
        "Continuous Bag-of-Words (CBOW)"
      ],
      "metadata": {
        "id": "-ajVpoZkLGtH"
      }
    },
    {
      "cell_type": "code",
      "source": [
        "vocabs[:20]"
      ],
      "metadata": {
        "colab": {
          "base_uri": "https://localhost:8080/"
        },
        "id": "g7Qp43yHLHin",
        "outputId": "2e20ed69-bd94-45e6-a04d-9753266d2d09"
      },
      "execution_count": 554,
      "outputs": [
        {
          "output_type": "execute_result",
          "data": {
            "text/plain": [
              "['santiago',\n",
              " 'china',\n",
              " 'kazakhstan',\n",
              " 'indonesia',\n",
              " 'botswana',\n",
              " 'kigali',\n",
              " 'tashkent',\n",
              " 'belgium',\n",
              " 'slovakia',\n",
              " 'uzbekistan',\n",
              " 'lebanon',\n",
              " 'burundi',\n",
              " 'harare',\n",
              " 'thimphu',\n",
              " 'honduras',\n",
              " 'astana',\n",
              " 'ecuador',\n",
              " 'somalia',\n",
              " 'caracas',\n",
              " 'banjul']"
            ]
          },
          "metadata": {},
          "execution_count": 554
        }
      ]
    },
    {
      "cell_type": "code",
      "source": [
        "# vocab size\n",
        "voc_size = len(vocabs)\n",
        "print(voc_size)"
      ],
      "metadata": {
        "colab": {
          "base_uri": "https://localhost:8080/"
        },
        "id": "jYCg4SKNLKYw",
        "outputId": "aee014c4-e83f-4e5b-a1a9-ed2cb9d85f50"
      },
      "execution_count": 555,
      "outputs": [
        {
          "output_type": "stream",
          "name": "stdout",
          "text": [
            "233\n"
          ]
        }
      ]
    },
    {
      "cell_type": "markdown",
      "source": [
        "Preparing Train Data"
      ],
      "metadata": {
        "id": "dZFfJCxuLNCJ"
      }
    },
    {
      "cell_type": "code",
      "source": [
        "for c in corpus[:15]:\n",
        "    print(c)"
      ],
      "metadata": {
        "colab": {
          "base_uri": "https://localhost:8080/"
        },
        "id": "iA3PfqYYLMc4",
        "outputId": "82921ee6-11e0-43b0-a0c8-d42fe2129684"
      },
      "execution_count": 556,
      "outputs": [
        {
          "output_type": "stream",
          "name": "stdout",
          "text": [
            "abuja nigeria accra ghana\n",
            "abuja nigeria algiers algeria\n",
            "abuja nigeria amman jordan\n",
            "abuja nigeria ankara turkey\n",
            "abuja nigeria antananarivo madagascar\n",
            "abuja nigeria apia samoa\n",
            "abuja nigeria ashgabat turkmenistan\n",
            "abuja nigeria asmara eritrea\n",
            "abuja nigeria astana kazakhstan\n",
            "abuja nigeria athens greece\n",
            "abuja nigeria baghdad iraq\n",
            "abuja nigeria baku azerbaijan\n",
            "abuja nigeria bamako mali\n",
            "abuja nigeria bangkok thailand\n",
            "abuja nigeria banjul gambia\n"
          ]
        }
      ]
    },
    {
      "cell_type": "code",
      "source": [
        "cbows = []\n",
        "\n",
        "# for each corpus\n",
        "window_size = 1\n",
        "for sent in corpus_tokenized:\n",
        "    for i in range(window_size, len(sent) - window_size): \n",
        "        center_word = sent[i]\n",
        "        outside_words = [sent[i-1], sent[i+1]]  #window_size = 1\n",
        "        # center_word = sent[i]\n",
        "        cbows.append([outside_words, center_word])\n",
        "\n",
        "cbows[:15]"
      ],
      "metadata": {
        "colab": {
          "base_uri": "https://localhost:8080/"
        },
        "id": "cg4WmaZDLQL_",
        "outputId": "e57c1407-4e60-4301-dc79-9efd775a872f"
      },
      "execution_count": 557,
      "outputs": [
        {
          "output_type": "execute_result",
          "data": {
            "text/plain": [
              "[[['abuja', 'accra'], 'nigeria'],\n",
              " [['nigeria', 'ghana'], 'accra'],\n",
              " [['abuja', 'algiers'], 'nigeria'],\n",
              " [['nigeria', 'algeria'], 'algiers'],\n",
              " [['abuja', 'amman'], 'nigeria'],\n",
              " [['nigeria', 'jordan'], 'amman'],\n",
              " [['abuja', 'ankara'], 'nigeria'],\n",
              " [['nigeria', 'turkey'], 'ankara'],\n",
              " [['abuja', 'antananarivo'], 'nigeria'],\n",
              " [['nigeria', 'madagascar'], 'antananarivo'],\n",
              " [['abuja', 'apia'], 'nigeria'],\n",
              " [['nigeria', 'samoa'], 'apia'],\n",
              " [['abuja', 'ashgabat'], 'nigeria'],\n",
              " [['nigeria', 'turkmenistan'], 'ashgabat'],\n",
              " [['abuja', 'asmara'], 'nigeria']]"
            ]
          },
          "metadata": {},
          "execution_count": 557
        }
      ]
    },
    {
      "cell_type": "markdown",
      "source": [
        "\n",
        "Modeling\n",
        "\n"
      ],
      "metadata": {
        "id": "wrcD7n7TLWQ5"
      }
    },
    {
      "cell_type": "code",
      "source": [
        "def make_context_vector(outside_words, word2index):\n",
        "    idxs = [word2index[w] for w in outside_words]\n",
        "    return torch.tensor(idxs, dtype=torch.long)\n",
        "     "
      ],
      "metadata": {
        "id": "ao2X4vlDLTvf"
      },
      "execution_count": 558,
      "outputs": []
    },
    {
      "cell_type": "code",
      "source": [
        "class CBOW(torch.nn.Module):\n",
        "    def __init__(self, vocab_size, embedding_size):\n",
        "        super(CBOW, self).__init__()\n",
        "\n",
        "        self.embedding = nn.Embedding(vocab_size, embedding_size)\n",
        "        self.linear = nn.Linear(embedding_size, vocab_size)\n",
        "        self.act_func = nn.LogSoftmax(dim = -1)\n",
        "        \n",
        "    def forward(self, inputs):\n",
        "        embeds = sum(self.embedding(inputs)).view(1,-1)\n",
        "        out = self.linear(embeds)\n",
        "        out = self.act_func(out)\n",
        "        return out\n",
        "\n",
        "    def get_word_emdedding(self, word):\n",
        "        word = torch.tensor([word2index[word]])\n",
        "        return self.embedding(word).view(1,-1)"
      ],
      "metadata": {
        "id": "5fPDMBd2LdLa"
      },
      "execution_count": 559,
      "outputs": []
    },
    {
      "cell_type": "markdown",
      "source": [
        "Training"
      ],
      "metadata": {
        "id": "zWi5rNVILkY3"
      }
    },
    {
      "cell_type": "code",
      "source": [
        "embedding_size = 2\n",
        "model_cbow = CBOW(voc_size, embedding_size)\n",
        "     "
      ],
      "metadata": {
        "id": "iFCmbXNiLivQ"
      },
      "execution_count": 560,
      "outputs": []
    },
    {
      "cell_type": "code",
      "source": [
        "model_cbow"
      ],
      "metadata": {
        "colab": {
          "base_uri": "https://localhost:8080/"
        },
        "id": "vmS2v67VLmkm",
        "outputId": "8afb840e-ad07-4cc6-87b8-8e3dd4a8d0b4"
      },
      "execution_count": 561,
      "outputs": [
        {
          "output_type": "execute_result",
          "data": {
            "text/plain": [
              "CBOW(\n",
              "  (embedding): Embedding(233, 2)\n",
              "  (linear): Linear(in_features=2, out_features=233, bias=True)\n",
              "  (act_func): LogSoftmax(dim=-1)\n",
              ")"
            ]
          },
          "metadata": {},
          "execution_count": 561
        }
      ]
    },
    {
      "cell_type": "code",
      "source": [
        "loss_function = nn.NLLLoss()\n",
        "optimizer = torch.optim.SGD(model_cbow.parameters(), lr=0.001)"
      ],
      "metadata": {
        "id": "3MBYX-3qLoDn"
      },
      "execution_count": 562,
      "outputs": []
    },
    {
      "cell_type": "code",
      "source": [
        "init_time = time.time()\n",
        "\n",
        "# training\n",
        "num_epochs = 500\n",
        "\n",
        "for epoch in range(num_epochs):\n",
        "\n",
        "    start_time = time.time()\n",
        "    loss = 0\n",
        "\n",
        "    for context, target in cbows:\n",
        "        context_vector = make_context_vector(context, word2index)\n",
        "        log_probs = model_cbow(context_vector)\n",
        "        loss += loss_function(log_probs, torch.tensor([word2index[target]]))\n",
        "\n",
        "    # optimizing at the end of each epoch\n",
        "    optimizer.zero_grad()\n",
        "\n",
        "    loss.backward()\n",
        "    optimizer.step()\n",
        "\n",
        "    epoch_time = time.time() - start_time\n",
        "    \n",
        "    # print(f\"epoch: {epoch}, loss: {loss}\")\n",
        "    if (epoch + 1) % 100 == 0:\n",
        "        print(f\"Epoch: {epoch + 1} | cost: {loss:.6f} | time: {epoch_time}\")\n",
        "\n",
        "total_time = time.time() - init_time\n",
        "print('Total training time:', total_time)"
      ],
      "metadata": {
        "colab": {
          "base_uri": "https://localhost:8080/"
        },
        "id": "6_zvuJpKLqsX",
        "outputId": "cf3be233-5823-48bc-f44d-b63de3307f99"
      },
      "execution_count": 563,
      "outputs": [
        {
          "output_type": "stream",
          "name": "stdout",
          "text": [
            "Epoch: 100 | cost: 41693.703125 | time: 2.4229023456573486\n",
            "Epoch: 200 | cost: 35296.523438 | time: 1.8703293800354004\n",
            "Epoch: 300 | cost: 32512.429688 | time: 2.039612293243408\n",
            "Epoch: 400 | cost: 31109.097656 | time: 1.8939108848571777\n",
            "Epoch: 500 | cost: 30335.839844 | time: 1.9095120429992676\n",
            "Total training time: 1041.2320637702942\n"
          ]
        }
      ]
    },
    {
      "cell_type": "markdown",
      "source": [
        "Skipgram Negative Sampling\n"
      ],
      "metadata": {
        "id": "4sHg11XYL2n3"
      }
    },
    {
      "cell_type": "markdown",
      "source": [
        "Unigram Distribution"
      ],
      "metadata": {
        "id": "9iTbf_mFL4if"
      }
    },
    {
      "cell_type": "code",
      "source": [
        "Z = 0.001\n",
        "\n",
        "from collections import Counter\n",
        "\n",
        "word_count = Counter(flatten(corpus_tokenized))\n",
        "num_total_words = sum([c for w, c in word_count.items()])"
      ],
      "metadata": {
        "id": "9LwrfiOHLvpI"
      },
      "execution_count": 564,
      "outputs": []
    },
    {
      "cell_type": "code",
      "source": [
        "num_total_words "
      ],
      "metadata": {
        "colab": {
          "base_uri": "https://localhost:8080/"
        },
        "id": "HRdVBSrNL9tF",
        "outputId": "e0e1b7aa-8ae4-48cc-fae2-2f0d0edb8f7d"
      },
      "execution_count": 565,
      "outputs": [
        {
          "output_type": "execute_result",
          "data": {
            "text/plain": [
              "18096"
            ]
          },
          "metadata": {},
          "execution_count": 565
        }
      ]
    },
    {
      "cell_type": "code",
      "source": [
        "unigram_table = []\n",
        "\n",
        "for vo in vocabs:\n",
        "    unigram_table.extend([vo] * int(((word_count[vo]/num_total_words)**0.75)/Z))"
      ],
      "metadata": {
        "id": "gs6n9p2eMAE5"
      },
      "execution_count": 566,
      "outputs": []
    },
    {
      "cell_type": "code",
      "source": [
        "print(len(vocabs), len(unigram_table))"
      ],
      "metadata": {
        "colab": {
          "base_uri": "https://localhost:8080/"
        },
        "id": "tmm4kOgGMCnp",
        "outputId": "33006387-0b28-4963-9881-42aa384e717a"
      },
      "execution_count": 567,
      "outputs": [
        {
          "output_type": "stream",
          "name": "stdout",
          "text": [
            "233 3712\n"
          ]
        }
      ]
    },
    {
      "cell_type": "code",
      "source": [
        "# Counter(unigram_table)"
      ],
      "metadata": {
        "id": "o-HxA6jBMEbQ"
      },
      "execution_count": 568,
      "outputs": []
    },
    {
      "cell_type": "markdown",
      "source": [
        "Negative Sampling"
      ],
      "metadata": {
        "id": "rbNqZnLxMNwH"
      }
    },
    {
      "cell_type": "code",
      "source": [
        "import random\n",
        "\n",
        "def prepare_sequence(seq, word2index):\n",
        "    idxs = list(map(lambda w: word2index[w] if word2index.get(w) is not None else word2index[\"\"], seq))\n",
        "    return torch.LongTensor(idxs)\n",
        "\n",
        "def negative_sampling(targets, unigram_table, k):\n",
        "    batch_size = targets.size(0)\n",
        "    neg_samples = []\n",
        "    for i in range(batch_size):\n",
        "        nsample = []\n",
        "        target_index = targets[i].item()\n",
        "        while len(nsample) < k: # num of sampling\n",
        "            neg = random.choice(unigram_table)\n",
        "            if word2index[neg] == target_index:\n",
        "                continue\n",
        "            nsample.append(neg)\n",
        "        neg_samples.append(prepare_sequence(nsample, word2index).view(1, -1))\n",
        "    \n",
        "    return torch.cat(neg_samples)"
      ],
      "metadata": {
        "id": "dbf9AanZMQXP"
      },
      "execution_count": 569,
      "outputs": []
    },
    {
      "cell_type": "markdown",
      "source": [
        "Testing"
      ],
      "metadata": {
        "id": "O4uh59ZMMY3A"
      }
    },
    {
      "cell_type": "code",
      "source": [
        "input_batch, label_batch = random_batch(batch_size, skipgrams)\n",
        "input_batch  = torch.Tensor(input_batch)\n",
        "label_batch = torch.LongTensor(label_batch)"
      ],
      "metadata": {
        "id": "xd5T4E5OMXLv"
      },
      "execution_count": 570,
      "outputs": []
    },
    {
      "cell_type": "code",
      "source": [
        "label_batch.shape"
      ],
      "metadata": {
        "colab": {
          "base_uri": "https://localhost:8080/"
        },
        "id": "XT5lsGt5Mdnf",
        "outputId": "152aca38-54ac-4e09-a461-bbfc4cec95b9"
      },
      "execution_count": 571,
      "outputs": [
        {
          "output_type": "execute_result",
          "data": {
            "text/plain": [
              "torch.Size([2, 1])"
            ]
          },
          "metadata": {},
          "execution_count": 571
        }
      ]
    },
    {
      "cell_type": "code",
      "source": [
        "num_neg = 3\n",
        "negative_sampling(label_batch, unigram_table, num_neg)"
      ],
      "metadata": {
        "colab": {
          "base_uri": "https://localhost:8080/"
        },
        "id": "ph9gnarbMfPO",
        "outputId": "4951536e-f7f8-4bdc-87e7-6fe5d84db8ff"
      },
      "execution_count": 572,
      "outputs": [
        {
          "output_type": "execute_result",
          "data": {
            "text/plain": [
              "tensor([[142,  67, 118],\n",
              "        [ 80, 167, 100]])"
            ]
          },
          "metadata": {},
          "execution_count": 572
        }
      ]
    },
    {
      "cell_type": "markdown",
      "source": [
        "Modeling"
      ],
      "metadata": {
        "id": "q8YR6WFKMlJP"
      }
    },
    {
      "cell_type": "code",
      "source": [
        "class SkipgramNegSampling(nn.Module):\n",
        "    \n",
        "    def __init__(self, vocab_size, emb_size):\n",
        "        super(SkipgramNegSampling, self).__init__()\n",
        "        self.embedding_center_word  = nn.Embedding(vocab_size, emb_size)  # center embedding\n",
        "        self.embedding_outside_word = nn.Embedding(vocab_size, emb_size)  # outside embedding\n",
        "        self.logsigmoid = nn.LogSigmoid()\n",
        "                    \n",
        "    def forward(self, center_words, outside_words, negative_words):\n",
        "        center_word_embed  = self.embedding_center_word(center_words)     # (batch_size, 1, emb_size)\n",
        "        outside_word_embed = self.embedding_outside_word(outside_words)   # (batch_size, 1, emb_size)\n",
        "        # all_vocabs_embed   = self.embedding_outside_word(all_vocabs)\n",
        "        neg_embeds    = -self.embedding_outside_word(negative_words)  # [batch_size, num_neg, emb_size]\n",
        "        \n",
        "        positive_score = outside_word_embed.bmm(center_word_embed.transpose(1, 2)).squeeze(2)\n",
        "        # [batch_size, 1, emb_size] @ [batch_size, emb_size, 1] = [batch_size, 1, 1] = [batch_size, 1]\n",
        "        \n",
        "        negative_score = neg_embeds.bmm(center_word_embed.transpose(1, 2))\n",
        "        # [batch_size, k, emb_size] @ [batch_size, emb_size, 1] = [batch_size, k, 1]\n",
        "        \n",
        "        loss = self.logsigmoid(positive_score) + torch.sum(self.logsigmoid(negative_score), 1)\n",
        "                \n",
        "        return -torch.mean(loss)\n",
        "    \n",
        "    def prediction(self, inputs):\n",
        "        embeds = self.embedding_v(inputs)\n",
        "        return embeds"
      ],
      "metadata": {
        "id": "9MavL0LHMl2_"
      },
      "execution_count": 573,
      "outputs": []
    },
    {
      "cell_type": "markdown",
      "source": [
        "Training"
      ],
      "metadata": {
        "id": "2z3-uuKOMp83"
      }
    },
    {
      "cell_type": "code",
      "source": [
        "len(vocabs)"
      ],
      "metadata": {
        "colab": {
          "base_uri": "https://localhost:8080/"
        },
        "id": "jjazk4mvMs2K",
        "outputId": "1ce35db0-ef30-4dd8-9889-10293595ed4d"
      },
      "execution_count": 574,
      "outputs": [
        {
          "output_type": "execute_result",
          "data": {
            "text/plain": [
              "233"
            ]
          },
          "metadata": {},
          "execution_count": 574
        }
      ]
    },
    {
      "cell_type": "code",
      "source": [
        "batch_size = 2 # mini-batch size\n",
        "embedding_size = 2 # so we can later plot\n",
        "model_negskip = SkipgramNegSampling(len(vocabs), embedding_size)\n",
        "num_neg = 10 # num of negative sampling\n",
        "\n",
        "optimizer = optim.Adam(model_negskip.parameters(), lr=0.001)"
      ],
      "metadata": {
        "id": "a3OpDNDtMvA_"
      },
      "execution_count": 575,
      "outputs": []
    },
    {
      "cell_type": "code",
      "source": [
        "model_negskip"
      ],
      "metadata": {
        "colab": {
          "base_uri": "https://localhost:8080/"
        },
        "id": "rLuw-tFZMyKI",
        "outputId": "192c12ab-5b18-4218-9499-69f3eeca51fc"
      },
      "execution_count": 576,
      "outputs": [
        {
          "output_type": "execute_result",
          "data": {
            "text/plain": [
              "SkipgramNegSampling(\n",
              "  (embedding_center_word): Embedding(233, 2)\n",
              "  (embedding_outside_word): Embedding(233, 2)\n",
              "  (logsigmoid): LogSigmoid()\n",
              ")"
            ]
          },
          "metadata": {},
          "execution_count": 576
        }
      ]
    },
    {
      "cell_type": "code",
      "source": [
        "def epoch_time(start_time, end_time):\n",
        "    elapsed_time = end_time - start_time\n",
        "    elapsed_mins = int(elapsed_time / 60)\n",
        "    elapsed_secs = int(elapsed_time - (elapsed_mins * 60))\n",
        "    return elapsed_mins, elapsed_secs"
      ],
      "metadata": {
        "id": "xatXwjEEM0Wn"
      },
      "execution_count": 577,
      "outputs": []
    },
    {
      "cell_type": "code",
      "source": [
        "import time\n",
        "\n",
        "init_time = time.time()\n",
        "\n",
        "# Training\n",
        "num_epochs = 500\n",
        "for epoch in range(num_epochs):\n",
        "    \n",
        "    start_time = time.time()\n",
        "    \n",
        "    input_batch, target_batch = random_batch(batch_size, corpus)\n",
        "    \n",
        "    # input_batch: [batch_size, 1]\n",
        "    input_batch = torch.LongTensor(input_batch)\n",
        "    \n",
        "    # target_batch: [batch_size, 1]\n",
        "    target_batch = torch.LongTensor(target_batch)\n",
        "    \n",
        "    # negs_batch:   [batch_size, num_neg]\n",
        "    negs_batch = negative_sampling(label_batch, unigram_table, 3)\n",
        "    \n",
        "    optimizer.zero_grad()\n",
        "    loss = model_negskip(input_batch, target_batch, negs_batch)\n",
        "    \n",
        "    loss.backward()\n",
        "    optimizer.step()\n",
        "\n",
        "    epoch_time = time.time() - start_time\n",
        "\n",
        "    if (epoch + 1) % 100 == 0:\n",
        "        print(f\"Epoch: {epoch + 1} | cost: {loss:.6f} | time: {epoch_time}\")\n",
        "\n",
        "total_time = time.time() - init_time\n",
        "print('Total training time:', total_time)\n",
        "     "
      ],
      "metadata": {
        "colab": {
          "base_uri": "https://localhost:8080/"
        },
        "id": "eM4_oOJoM2kJ",
        "outputId": "a8dcdbe8-7cb9-412a-deb1-ac405534096b"
      },
      "execution_count": 578,
      "outputs": [
        {
          "output_type": "stream",
          "name": "stdout",
          "text": [
            "Epoch: 100 | cost: 5.162031 | time: 0.10823178291320801\n",
            "Epoch: 200 | cost: 4.075013 | time: 0.01031184196472168\n",
            "Epoch: 300 | cost: 2.940463 | time: 0.010599613189697266\n",
            "Epoch: 400 | cost: 3.561136 | time: 0.00911259651184082\n",
            "Epoch: 500 | cost: 2.968183 | time: 0.009778499603271484\n",
            "Total training time: 12.446539878845215\n"
          ]
        }
      ]
    },
    {
      "cell_type": "markdown",
      "source": [
        "GloVe"
      ],
      "metadata": {
        "id": "bYSULAIZM8p0"
      }
    },
    {
      "cell_type": "markdown",
      "source": [
        "Co-occurrence matrix"
      ],
      "metadata": {
        "id": "XF-a_X_2M_US"
      }
    },
    {
      "cell_type": "code",
      "source": [
        "# using Counter to first count stuffs\n",
        "from collections import Counter\n",
        "\n",
        "# counting the frequency of each word....\n",
        "# we somehow need this to calculate the probability Pi\n",
        "X_i = Counter(flatten(corpus_tokenized)) # merging all list....(flatten is a function I define.....)\n",
        "\n",
        "# X_i['apple'] #get the probability of apple\n",
        "     "
      ],
      "metadata": {
        "id": "d_tttU2bM69z"
      },
      "execution_count": 579,
      "outputs": []
    },
    {
      "cell_type": "code",
      "source": [
        "corpus_tokenized[:15]\n",
        "     "
      ],
      "metadata": {
        "colab": {
          "base_uri": "https://localhost:8080/"
        },
        "id": "pQyf6QArNFDa",
        "outputId": "765543e9-413d-4865-96f8-276abb3bc571"
      },
      "execution_count": 580,
      "outputs": [
        {
          "output_type": "execute_result",
          "data": {
            "text/plain": [
              "[['abuja', 'nigeria', 'accra', 'ghana'],\n",
              " ['abuja', 'nigeria', 'algiers', 'algeria'],\n",
              " ['abuja', 'nigeria', 'amman', 'jordan'],\n",
              " ['abuja', 'nigeria', 'ankara', 'turkey'],\n",
              " ['abuja', 'nigeria', 'antananarivo', 'madagascar'],\n",
              " ['abuja', 'nigeria', 'apia', 'samoa'],\n",
              " ['abuja', 'nigeria', 'ashgabat', 'turkmenistan'],\n",
              " ['abuja', 'nigeria', 'asmara', 'eritrea'],\n",
              " ['abuja', 'nigeria', 'astana', 'kazakhstan'],\n",
              " ['abuja', 'nigeria', 'athens', 'greece'],\n",
              " ['abuja', 'nigeria', 'baghdad', 'iraq'],\n",
              " ['abuja', 'nigeria', 'baku', 'azerbaijan'],\n",
              " ['abuja', 'nigeria', 'bamako', 'mali'],\n",
              " ['abuja', 'nigeria', 'bangkok', 'thailand'],\n",
              " ['abuja', 'nigeria', 'banjul', 'gambia']]"
            ]
          },
          "metadata": {},
          "execution_count": 580
        }
      ]
    },
    {
      "cell_type": "code",
      "source": [
        "# defining a skipgram of window size 1\n",
        "skip_grams = []\n",
        "\n",
        "# looping through each corpus\n",
        "for sent in corpus_tokenized:  #['apple', 'banana', 'fruit']\n",
        "    # looping through each word from 1 to n-1 (because 0 and n has no context window)\n",
        "    for i in range(1, len(sent)-1):\n",
        "        target  = sent[i]\n",
        "        context = [sent[i+1], sent[i-1]]\n",
        "        # appending(i, i+1) and (i, i-1)\n",
        "        for c in context:\n",
        "            skip_grams.append((target, c))"
      ],
      "metadata": {
        "id": "iGweXB2YNG-4"
      },
      "execution_count": 581,
      "outputs": []
    },
    {
      "cell_type": "code",
      "source": [
        "corpus_tokenized[:15]"
      ],
      "metadata": {
        "colab": {
          "base_uri": "https://localhost:8080/"
        },
        "id": "s6saZVTCNJ7A",
        "outputId": "86e0305d-ba37-40af-da84-eb4b645c3e9c"
      },
      "execution_count": 582,
      "outputs": [
        {
          "output_type": "execute_result",
          "data": {
            "text/plain": [
              "[['abuja', 'nigeria', 'accra', 'ghana'],\n",
              " ['abuja', 'nigeria', 'algiers', 'algeria'],\n",
              " ['abuja', 'nigeria', 'amman', 'jordan'],\n",
              " ['abuja', 'nigeria', 'ankara', 'turkey'],\n",
              " ['abuja', 'nigeria', 'antananarivo', 'madagascar'],\n",
              " ['abuja', 'nigeria', 'apia', 'samoa'],\n",
              " ['abuja', 'nigeria', 'ashgabat', 'turkmenistan'],\n",
              " ['abuja', 'nigeria', 'asmara', 'eritrea'],\n",
              " ['abuja', 'nigeria', 'astana', 'kazakhstan'],\n",
              " ['abuja', 'nigeria', 'athens', 'greece'],\n",
              " ['abuja', 'nigeria', 'baghdad', 'iraq'],\n",
              " ['abuja', 'nigeria', 'baku', 'azerbaijan'],\n",
              " ['abuja', 'nigeria', 'bamako', 'mali'],\n",
              " ['abuja', 'nigeria', 'bangkok', 'thailand'],\n",
              " ['abuja', 'nigeria', 'banjul', 'gambia']]"
            ]
          },
          "metadata": {},
          "execution_count": 582
        }
      ]
    },
    {
      "cell_type": "code",
      "source": [
        "skip_grams[:15]"
      ],
      "metadata": {
        "colab": {
          "base_uri": "https://localhost:8080/"
        },
        "id": "uC-Zp3G4NLs_",
        "outputId": "e6f580ae-893d-4426-bd23-c1302f69867d"
      },
      "execution_count": 583,
      "outputs": [
        {
          "output_type": "execute_result",
          "data": {
            "text/plain": [
              "[('nigeria', 'accra'),\n",
              " ('nigeria', 'abuja'),\n",
              " ('accra', 'ghana'),\n",
              " ('accra', 'nigeria'),\n",
              " ('nigeria', 'algiers'),\n",
              " ('nigeria', 'abuja'),\n",
              " ('algiers', 'algeria'),\n",
              " ('algiers', 'nigeria'),\n",
              " ('nigeria', 'amman'),\n",
              " ('nigeria', 'abuja'),\n",
              " ('amman', 'jordan'),\n",
              " ('amman', 'nigeria'),\n",
              " ('nigeria', 'ankara'),\n",
              " ('nigeria', 'abuja'),\n",
              " ('ankara', 'turkey')]"
            ]
          },
          "metadata": {},
          "execution_count": 583
        }
      ]
    },
    {
      "cell_type": "code",
      "source": [
        "# since we have these occurrences, we can count, to make our co-occurrence matrix!!!\n",
        "X_ik_skipgram = Counter(skip_grams)\n",
        "# X_ik_skipgram"
      ],
      "metadata": {
        "id": "c3nFKjnpNToY"
      },
      "execution_count": 584,
      "outputs": []
    },
    {
      "cell_type": "code",
      "source": [
        "X_ik_skipgram[('algiers', 'algeria')]"
      ],
      "metadata": {
        "colab": {
          "base_uri": "https://localhost:8080/"
        },
        "id": "Sxjp9-uvNWDG",
        "outputId": "d36708ef-174f-4192-931f-6edebf5a3c3d"
      },
      "execution_count": 603,
      "outputs": [
        {
          "output_type": "execute_result",
          "data": {
            "text/plain": [
              "39"
            ]
          },
          "metadata": {},
          "execution_count": 603
        }
      ]
    },
    {
      "cell_type": "code",
      "source": [
        "X_ik_skipgram[('ankara', 'turkey')]"
      ],
      "metadata": {
        "colab": {
          "base_uri": "https://localhost:8080/"
        },
        "id": "bo1_JrDlNh_A",
        "outputId": "0463ebc4-d8d5-4ddf-9ae2-ce83914108b9"
      },
      "execution_count": 604,
      "outputs": [
        {
          "output_type": "execute_result",
          "data": {
            "text/plain": [
              "39"
            ]
          },
          "metadata": {},
          "execution_count": 604
        }
      ]
    },
    {
      "cell_type": "markdown",
      "source": [
        "Weighting Function f"
      ],
      "metadata": {
        "id": "JkhaX0XeNo1A"
      }
    },
    {
      "cell_type": "code",
      "source": [
        "def weighting(w_i, w_j, X_ik):   # we need w_i and w_j, because we can try its co-occurrences, if it's too big, we scale it down\n",
        "    \n",
        "    # checking whether the co-occurrences between these two word exists???\n",
        "    try:\n",
        "        x_ij = X_ik[(w_i, w_j)]\n",
        "    except:\n",
        "        x_ij = 1  # why one, so that the probability thingy won't break...(label smoothing)\n",
        "        \n",
        "    # maximum co-occurrences; we follow the paper\n",
        "    x_max = 100\n",
        "    alpha = 0.75\n",
        "    \n",
        "    # if the co-occurrences does not exceed x_max, scale it down based on some alpha\n",
        "    if x_ij < x_max:\n",
        "        result = (x_ij/x_max) ** alpha\n",
        "    else:\n",
        "        result = 1 # this is the maximum probability we can have\n",
        "        \n",
        "    return result"
      ],
      "metadata": {
        "id": "_6YvDylXNnK_"
      },
      "execution_count": 605,
      "outputs": []
    },
    {
      "cell_type": "code",
      "source": [
        "w_i  = 'turkey'\n",
        "w_j  = 'ankara'\n",
        "w_j2 = 'bangkok'\n",
        "\n",
        "print(weighting(w_i, w_j, X_ik_skipgram))   # scales from 1 to 0.0316\n",
        "print(weighting(w_i, w_j2, X_ik_skipgram))  # the paper says that f(0) = 0\n",
        "     "
      ],
      "metadata": {
        "colab": {
          "base_uri": "https://localhost:8080/"
        },
        "id": "hwu2ktnRNsfv",
        "outputId": "1d4190c1-b0e4-4602-a76d-cb276d3bf8c8"
      },
      "execution_count": 606,
      "outputs": [
        {
          "output_type": "stream",
          "name": "stdout",
          "text": [
            "0.4935128386754873\n",
            "0.03162277660168379\n"
          ]
        }
      ]
    },
    {
      "cell_type": "code",
      "source": [
        "vocabs[:15]"
      ],
      "metadata": {
        "colab": {
          "base_uri": "https://localhost:8080/"
        },
        "id": "3srvBeJmN6Xf",
        "outputId": "bd7c2688-f02b-49ec-92fe-6d94d795666f"
      },
      "execution_count": 607,
      "outputs": [
        {
          "output_type": "execute_result",
          "data": {
            "text/plain": [
              "['santiago',\n",
              " 'china',\n",
              " 'kazakhstan',\n",
              " 'indonesia',\n",
              " 'botswana',\n",
              " 'kigali',\n",
              " 'tashkent',\n",
              " 'belgium',\n",
              " 'slovakia',\n",
              " 'uzbekistan',\n",
              " 'lebanon',\n",
              " 'burundi',\n",
              " 'harare',\n",
              " 'thimphu',\n",
              " 'honduras']"
            ]
          },
          "metadata": {},
          "execution_count": 607
        }
      ]
    },
    {
      "cell_type": "code",
      "source": [
        "# applying this weighting to all possible pairs\n",
        "from itertools import combinations_with_replacement\n",
        "\n",
        "X_ik = {} # for keeping the co-occurrences\n",
        "weighting_dic = {} # for keeping all the probability after passing through the weighting function\n",
        "\n",
        "for bigram in combinations_with_replacement(vocabs, 2):  # we need to also think its reverse\n",
        "    # if this bigram exists in X_ik_skipgrams\n",
        "    # we gonna add this to our co-occurence matrix\n",
        "    if X_ik_skipgram.get(bigram) is not None:\n",
        "        cooc = X_ik_skipgram[bigram]  # getting the co-occurrence\n",
        "        X_ik[bigram] = cooc + 1 # this is again basically label smoothing....(stability issues (especially when divide something))\n",
        "        X_ik[(bigram[1], bigram[0])] = cooc + 1  # trick to get all pairs\n",
        "    else: # otherwise, do nothing\n",
        "        pass\n",
        "    \n",
        "    # applying the weighting function using this co-occurrence matrix thingy    \n",
        "    weighting_dic[bigram] = weighting(bigram[0], bigram[1], X_ik)\n",
        "    weighting_dic[(bigram[1], bigram[0])] = weighting(bigram[1], bigram[0], X_ik)\n",
        "     "
      ],
      "metadata": {
        "id": "ZI-lKIiZN9lf"
      },
      "execution_count": 608,
      "outputs": []
    },
    {
      "cell_type": "code",
      "source": [
        "len(X_ik_skipgram)"
      ],
      "metadata": {
        "colab": {
          "base_uri": "https://localhost:8080/"
        },
        "id": "WL94TGRoOBQI",
        "outputId": "4e586b3d-8600-4fa8-f9be-8fdecc0286fa"
      },
      "execution_count": 609,
      "outputs": [
        {
          "output_type": "execute_result",
          "data": {
            "text/plain": [
              "9280"
            ]
          },
          "metadata": {},
          "execution_count": 609
        }
      ]
    },
    {
      "cell_type": "markdown",
      "source": [
        "Preparing Train Data"
      ],
      "metadata": {
        "id": "HiWdi6ufOFdA"
      }
    },
    {
      "cell_type": "code",
      "source": [
        "for c in corpus_tokenized[:10]:\n",
        "    print(c)"
      ],
      "metadata": {
        "colab": {
          "base_uri": "https://localhost:8080/"
        },
        "id": "GOHdiqXKODk3",
        "outputId": "e6ef810b-dd2b-4dd8-c80e-efd2a52d03ae"
      },
      "execution_count": 610,
      "outputs": [
        {
          "output_type": "stream",
          "name": "stdout",
          "text": [
            "['abuja', 'nigeria', 'accra', 'ghana']\n",
            "['abuja', 'nigeria', 'algiers', 'algeria']\n",
            "['abuja', 'nigeria', 'amman', 'jordan']\n",
            "['abuja', 'nigeria', 'ankara', 'turkey']\n",
            "['abuja', 'nigeria', 'antananarivo', 'madagascar']\n",
            "['abuja', 'nigeria', 'apia', 'samoa']\n",
            "['abuja', 'nigeria', 'ashgabat', 'turkmenistan']\n",
            "['abuja', 'nigeria', 'asmara', 'eritrea']\n",
            "['abuja', 'nigeria', 'astana', 'kazakhstan']\n",
            "['abuja', 'nigeria', 'athens', 'greece']\n"
          ]
        }
      ]
    },
    {
      "cell_type": "code",
      "source": [
        "\n",
        "skip_grams[:10]"
      ],
      "metadata": {
        "colab": {
          "base_uri": "https://localhost:8080/"
        },
        "id": "SKvkDEGDOIDn",
        "outputId": "58239cd3-b5eb-433a-8619-0727ca0889c9"
      },
      "execution_count": 611,
      "outputs": [
        {
          "output_type": "execute_result",
          "data": {
            "text/plain": [
              "[('nigeria', 'accra'),\n",
              " ('nigeria', 'abuja'),\n",
              " ('accra', 'ghana'),\n",
              " ('accra', 'nigeria'),\n",
              " ('nigeria', 'algiers'),\n",
              " ('nigeria', 'abuja'),\n",
              " ('algiers', 'algeria'),\n",
              " ('algiers', 'nigeria'),\n",
              " ('nigeria', 'amman'),\n",
              " ('nigeria', 'abuja')]"
            ]
          },
          "metadata": {},
          "execution_count": 611
        }
      ]
    },
    {
      "cell_type": "code",
      "source": [
        "import math\n",
        "\n",
        "def random_batch(batch_size, word_sequence, skip_grams, X_ik, weighting_dic):\n",
        "    \n",
        "    # looping through this skipgram, and changing it to id  because when sending model, it must have a number\n",
        "    skip_grams_id = [(word2index[skip_gram[0]], word2index[skip_gram[1]]) for skip_gram in skip_grams]\n",
        "    \n",
        "    # randomly picking \"batch_size\" indexes\n",
        "    number_of_choices = len(skip_grams_id)\n",
        "    random_index = np.random.choice(number_of_choices, batch_size, replace=False) # no repeating indexes among these random indexes\n",
        "    \n",
        "    random_inputs = [] #xi, wi (in batches)\n",
        "    random_labels = [] #xj, wj (in batches)\n",
        "    random_coocs  = [] #Xij (in batches)\n",
        "    random_weighting = [] #f(Xij) (in batches)\n",
        "    # for each of the sample in these indexes\n",
        "    for i in random_index:\n",
        "        random_inputs.append([skip_grams_id[i][0]]) # same reason why i put bracket here....\n",
        "        random_labels.append([skip_grams_id[i][1]])\n",
        "        \n",
        "        # getting cooc\n",
        "        # first checking whether it exists...\n",
        "        pair = skip_grams[i]  #e.g., ('banana', 'fruit)\n",
        "        try:\n",
        "            cooc = X_ik[pair]\n",
        "        except:\n",
        "            cooc = 1 #label smoothing\n",
        "            \n",
        "        random_coocs.append([math.log(cooc)])  # 1. why log, # 2. why bracket -> size ==> (, 1)  # my neural network expects (, 1)\n",
        "        \n",
        "        # getting weighting\n",
        "        weighting = weighting_dic[pair]  # why not use try....maybe it does not exist....\n",
        "        random_weighting.append(weighting)\n",
        "\n",
        "        \n",
        "    return np.array(random_inputs), np.array(random_labels), np.array(random_coocs), np.array(random_weighting)\n",
        "    "
      ],
      "metadata": {
        "id": "mlv1qYsJOJjn"
      },
      "execution_count": 612,
      "outputs": []
    },
    {
      "cell_type": "code",
      "source": [
        "batch_size = 2\n",
        "input, target, cooc, weightin = random_batch(batch_size, corpus_tokenized, skip_grams, X_ik, weighting_dic)\n",
        "   "
      ],
      "metadata": {
        "id": "Xmmiur4BON6v"
      },
      "execution_count": 613,
      "outputs": []
    },
    {
      "cell_type": "code",
      "source": [
        "input, target, cooc, weightin"
      ],
      "metadata": {
        "colab": {
          "base_uri": "https://localhost:8080/"
        },
        "id": "fQMB0Bt5OQAv",
        "outputId": "c81f73e8-6a95-47fe-f379-e1d66b4dec73"
      },
      "execution_count": 596,
      "outputs": [
        {
          "output_type": "execute_result",
          "data": {
            "text/plain": [
              "(array([[111],\n",
              "        [134]]), array([[134],\n",
              "        [ 62]]), array([[0.69314718],\n",
              "        [3.68887945]]), array([0.05318296, 0.50297337]))"
            ]
          },
          "metadata": {},
          "execution_count": 596
        }
      ]
    },
    {
      "cell_type": "markdown",
      "source": [
        "Modeling"
      ],
      "metadata": {
        "id": "-P4QrZhpOTNf"
      }
    },
    {
      "cell_type": "code",
      "source": [
        "class GloVe(nn.Module):\n",
        "    \n",
        "    def __init__(self, vocab_size,embed_size):\n",
        "        super(GloVe,self).__init__()\n",
        "        self.embedding_v = nn.Embedding(vocab_size, embed_size) # center embedding\n",
        "        self.embedding_u = nn.Embedding(vocab_size, embed_size) # out embedding\n",
        "        \n",
        "        self.v_bias = nn.Embedding(vocab_size, 1)\n",
        "        self.u_bias = nn.Embedding(vocab_size, 1)\n",
        "        \n",
        "    def forward(self, center_words, target_words, coocs, weighting):\n",
        "        center_embeds = self.embedding_v(center_words) # [batch_size, 1, emb_size]\n",
        "        target_embeds = self.embedding_u(target_words) # [batch_size, 1, emb_size]\n",
        "        \n",
        "        center_bias = self.v_bias(center_words).squeeze(1)\n",
        "        target_bias = self.u_bias(target_words).squeeze(1)\n",
        "        \n",
        "        inner_product = target_embeds.bmm(center_embeds.transpose(1, 2)).squeeze(2)\n",
        "        #[batch_size, 1, emb_size] @ [batch_size, emb_size, 1] = [batch_size, 1, 1] = [batch_size, 1]\n",
        "        \n",
        "        #note that coocs already got log\n",
        "        loss = weighting*torch.pow(inner_product +center_bias + target_bias - coocs, 2)\n",
        "        \n",
        "        return torch.sum(loss)"
      ],
      "metadata": {
        "id": "otp2CpfqOadv"
      },
      "execution_count": 614,
      "outputs": []
    },
    {
      "cell_type": "markdown",
      "source": [
        "Training"
      ],
      "metadata": {
        "id": "wrB7I5q3OeDA"
      }
    },
    {
      "cell_type": "code",
      "source": [
        "voc_size = len(vocabs)\n",
        "batch_size = 2 # why?  no reason; \n",
        "emb_size = 2 # why?  no reason; usually 50, 100, 300, but 2 so we can plot (we can also plot 50, but we need to do PCA)\n",
        "model_glove = GloVe(voc_size, emb_size)\n",
        "\n",
        "optimizer = optim.Adam(model_glove.parameters(), lr=0.001)"
      ],
      "metadata": {
        "id": "lcpqm-E2Oc9h"
      },
      "execution_count": 615,
      "outputs": []
    },
    {
      "cell_type": "code",
      "source": [
        "def epoch_time(start_time, end_time):\n",
        "    elapsed_time = end_time - start_time\n",
        "    elapsed_mins = int(elapsed_time / 60)\n",
        "    elapsed_secs = int(elapsed_time - (elapsed_mins * 60))\n",
        "    return elapsed_mins, elapsed_secs"
      ],
      "metadata": {
        "id": "dqlH8Q3uOgfI"
      },
      "execution_count": 616,
      "outputs": []
    },
    {
      "cell_type": "code",
      "source": [
        "init_time = time.time()\n",
        "\n",
        "# training\n",
        "num_epochs = 500\n",
        "\n",
        "# for epoch\n",
        "for epoch in range(num_epochs):\n",
        "\n",
        "    start_time = time.time()\n",
        "\n",
        "    # getting random batch\n",
        "    input, target, cooc, weightin = random_batch(batch_size, corpus_tokenized, skip_grams, X_ik, weighting_dic)\n",
        "    input_batch = torch.LongTensor(input)\n",
        "    target_batch = torch.LongTensor(target)\n",
        "    cooc_batch = torch.FloatTensor(cooc)\n",
        "    weightin_batch = torch.FloatTensor(weightin)\n",
        "       \n",
        "    # print(input_batch.shape, label_batch.shape, cooc_batch.shape, weightin_batch)\n",
        "    \n",
        "    # loss = model\n",
        "    loss = model_glove(input_batch, target_batch, cooc_batch, weightin_batch)\n",
        "    \n",
        "    # backpropagation\n",
        "    loss.backward()\n",
        "    \n",
        "    # updating alpha\n",
        "    optimizer.step()\n",
        "    \n",
        "    epoch_time = time.time() - start_time\n",
        "\n",
        "    # printing epoch loss\n",
        "    if (epoch + 1) % 100 == 0:\n",
        "        print(f\"Epoch: {epoch + 1} | cost: {loss:.6f} | time: {epoch_time}\")\n",
        "\n",
        "total_time = time.time() - init_time\n",
        "print('Total training time:', total_time)"
      ],
      "metadata": {
        "colab": {
          "base_uri": "https://localhost:8080/"
        },
        "id": "063jlCSEOjwP",
        "outputId": "7bf1948e-6fee-4cd8-a2e5-c1977a78361d"
      },
      "execution_count": 617,
      "outputs": [
        {
          "output_type": "stream",
          "name": "stdout",
          "text": [
            "Epoch: 100 | cost: 10.693885 | time: 0.005293130874633789\n",
            "Epoch: 200 | cost: 45.966034 | time: 0.00485682487487793\n",
            "Epoch: 300 | cost: 6.304430 | time: 0.004884958267211914\n",
            "Epoch: 400 | cost: 1.936267 | time: 0.008531570434570312\n",
            "Epoch: 500 | cost: 0.117152 | time: 0.008860588073730469\n",
            "Total training time: 3.483180046081543\n"
          ]
        }
      ]
    },
    {
      "cell_type": "markdown",
      "source": [
        "Plot the Embeddings"
      ],
      "metadata": {
        "id": "ezeZIgqQOrUv"
      }
    },
    {
      "cell_type": "code",
      "source": [
        "vocabs[:10]"
      ],
      "metadata": {
        "colab": {
          "base_uri": "https://localhost:8080/"
        },
        "id": "NWPmjHbDOnOo",
        "outputId": "e4af787f-4dd6-4965-a7e2-eb8a855ccf0b"
      },
      "execution_count": 618,
      "outputs": [
        {
          "output_type": "execute_result",
          "data": {
            "text/plain": [
              "['santiago',\n",
              " 'china',\n",
              " 'kazakhstan',\n",
              " 'indonesia',\n",
              " 'botswana',\n",
              " 'kigali',\n",
              " 'tashkent',\n",
              " 'belgium',\n",
              " 'slovakia',\n",
              " 'uzbekistan']"
            ]
          },
          "metadata": {},
          "execution_count": 618
        }
      ]
    },
    {
      "cell_type": "code",
      "source": [
        "kazakhstan = torch.LongTensor([word2index['kazakhstan']])\n",
        "kazakhstan"
      ],
      "metadata": {
        "colab": {
          "base_uri": "https://localhost:8080/"
        },
        "id": "5KLI5-Y2OtPx",
        "outputId": "9f8109b7-0c3a-405f-ade8-8d11126e75a8"
      },
      "execution_count": 619,
      "outputs": [
        {
          "output_type": "execute_result",
          "data": {
            "text/plain": [
              "tensor([2])"
            ]
          },
          "metadata": {},
          "execution_count": 619
        }
      ]
    },
    {
      "cell_type": "code",
      "source": [
        "kazakhstan_center_embed = model_glove.embedding_v(kazakhstan)\n",
        "kazakhstan_outisde_embed = model_glove.embedding_u(kazakhstan)\n",
        "\n",
        "kazakhstan_embed = (kazakhstan_center_embed + kazakhstan_outisde_embed) / 2\n",
        "kazakhstan_embed"
      ],
      "metadata": {
        "colab": {
          "base_uri": "https://localhost:8080/"
        },
        "id": "2_AuC94AO9_7",
        "outputId": "ba41b4b1-3ff6-4e68-c965-c49f05709948"
      },
      "execution_count": 620,
      "outputs": [
        {
          "output_type": "execute_result",
          "data": {
            "text/plain": [
              "tensor([[-0.0816,  0.3906]], grad_fn=<DivBackward0>)"
            ]
          },
          "metadata": {},
          "execution_count": 620
        }
      ]
    },
    {
      "cell_type": "code",
      "source": [
        "def get_embed(word):\n",
        "  \n",
        "    try:\n",
        "        index = word2index[word]\n",
        "    except:\n",
        "        index = word2index['']\n",
        "    \n",
        "    word = torch.LongTensor([index])\n",
        "\n",
        "    center_embed  = model_glove.embedding_v(word)\n",
        "    outside_embed = model_glove.embedding_u(word)\n",
        "    \n",
        "    embed = (center_embed + outside_embed) / 2\n",
        "    \n",
        "    return  embed[0][0].item(), embed[0][1].item()"
      ],
      "metadata": {
        "id": "qkTwcnIQPMJA"
      },
      "execution_count": 621,
      "outputs": []
    },
    {
      "cell_type": "code",
      "source": [
        "# finding embedding of greece, jordan\n",
        "\n",
        "print(get_embed('greece'))\n",
        "print(get_embed('jordan'))"
      ],
      "metadata": {
        "colab": {
          "base_uri": "https://localhost:8080/"
        },
        "id": "1UQQ11WLPPpw",
        "outputId": "35d65dd6-0c05-4fa1-8c0b-dd70a397e044"
      },
      "execution_count": 622,
      "outputs": [
        {
          "output_type": "stream",
          "name": "stdout",
          "text": [
            "(0.25350549817085266, 0.7509941458702087)\n",
            "(0.3426963686943054, 0.5169715285301208)\n"
          ]
        }
      ]
    },
    {
      "cell_type": "code",
      "source": [
        "# plotting the words\n",
        "\n",
        "plt.figure(figsize=(20,15))\n",
        "for i, word in enumerate(vocabs[:20]): #loop each unique vocab\n",
        "    x, y = get_embed(word)\n",
        "    plt.scatter(x, y)\n",
        "    plt.annotate(word, xy=(x, y), xytext=(5, 2), textcoords='offset points')\n",
        "plt.show()\n",
        "     "
      ],
      "metadata": {
        "colab": {
          "base_uri": "https://localhost:8080/",
          "height": 863
        },
        "id": "4S067haVPaki",
        "outputId": "fcfb956f-c266-4c05-b466-beb97594443e"
      },
      "execution_count": 623,
      "outputs": [
        {
          "output_type": "display_data",
          "data": {
            "text/plain": [
              "<Figure size 1440x1080 with 1 Axes>"
            ],
            "image/png": "[encoded data removed]"
          },
          "metadata": {
            "needs_background": "light"
          }
        }
      ]
    },
    {
      "cell_type": "markdown",
      "source": [
        "Loading Test Dataset"
      ],
      "metadata": {
        "id": "CNINsJxcPeyI"
      }
    },
    {
      "cell_type": "code",
      "source": [
        "with open('questions-words.txt') as file:\n",
        "    test_data = [line.strip() for line in file.readlines() if line[0] != ':']\n",
        "     "
      ],
      "metadata": {
        "id": "vNFZaLf5PfeS"
      },
      "execution_count": 624,
      "outputs": []
    },
    {
      "cell_type": "code",
      "source": [
        "len(test_data)"
      ],
      "metadata": {
        "colab": {
          "base_uri": "https://localhost:8080/"
        },
        "id": "H8HGCibPPhXw",
        "outputId": "f5a6d5ce-430b-4c91-dafa-1ccbc7f08240"
      },
      "execution_count": 625,
      "outputs": [
        {
          "output_type": "execute_result",
          "data": {
            "text/plain": [
              "19544"
            ]
          },
          "metadata": {},
          "execution_count": 625
        }
      ]
    },
    {
      "cell_type": "code",
      "source": [
        "test_data[:10]"
      ],
      "metadata": {
        "colab": {
          "base_uri": "https://localhost:8080/"
        },
        "id": "kjU_AR_Br8FP",
        "outputId": "7987c75c-6e11-41a4-a264-2a5fafd4f4e2"
      },
      "execution_count": 626,
      "outputs": [
        {
          "output_type": "execute_result",
          "data": {
            "text/plain": [
              "['Athens Greece Baghdad Iraq',\n",
              " 'Athens Greece Bangkok Thailand',\n",
              " 'Athens Greece Beijing China',\n",
              " 'Athens Greece Berlin Germany',\n",
              " 'Athens Greece Bern Switzerland',\n",
              " 'Athens Greece Cairo Egypt',\n",
              " 'Athens Greece Canberra Australia',\n",
              " 'Athens Greece Hanoi Vietnam',\n",
              " 'Athens Greece Havana Cuba',\n",
              " 'Athens Greece Helsinki Finland']"
            ]
          },
          "metadata": {},
          "execution_count": 626
        }
      ]
    },
    {
      "cell_type": "code",
      "source": [
        "# tokenization\n",
        "\n",
        "testdata_tokenized = [sent.split(\" \") for sent in test_data]\n",
        "testdata_tokenized[:15]"
      ],
      "metadata": {
        "colab": {
          "base_uri": "https://localhost:8080/"
        },
        "id": "PFSd9vmdsug9",
        "outputId": "4d24a084-e159-477c-cafe-4b6f2e17d807"
      },
      "execution_count": 627,
      "outputs": [
        {
          "output_type": "execute_result",
          "data": {
            "text/plain": [
              "[['Athens', 'Greece', 'Baghdad', 'Iraq'],\n",
              " ['Athens', 'Greece', 'Bangkok', 'Thailand'],\n",
              " ['Athens', 'Greece', 'Beijing', 'China'],\n",
              " ['Athens', 'Greece', 'Berlin', 'Germany'],\n",
              " ['Athens', 'Greece', 'Bern', 'Switzerland'],\n",
              " ['Athens', 'Greece', 'Cairo', 'Egypt'],\n",
              " ['Athens', 'Greece', 'Canberra', 'Australia'],\n",
              " ['Athens', 'Greece', 'Hanoi', 'Vietnam'],\n",
              " ['Athens', 'Greece', 'Havana', 'Cuba'],\n",
              " ['Athens', 'Greece', 'Helsinki', 'Finland'],\n",
              " ['Athens', 'Greece', 'Islamabad', 'Pakistan'],\n",
              " ['Athens', 'Greece', 'Kabul', 'Afghanistan'],\n",
              " ['Athens', 'Greece', 'London', 'England'],\n",
              " ['Athens', 'Greece', 'Madrid', 'Spain'],\n",
              " ['Athens', 'Greece', 'Moscow', 'Russia']]"
            ]
          },
          "metadata": {},
          "execution_count": 627
        }
      ]
    },
    {
      "cell_type": "code",
      "source": [
        "# numericalization\n",
        "\n",
        "# getting all the unique words\n",
        "# we want to flatten this (basically merge all list)\n",
        "\n",
        "flatten = lambda l: [item for sublist in l for item in sublist]\n",
        "test_vocabs  = list(set(flatten(testdata_tokenized)))  # vocabs is a term defining all unique words your system know\n",
        "     "
      ],
      "metadata": {
        "id": "R9EPyslqsy0e"
      },
      "execution_count": 628,
      "outputs": []
    },
    {
      "cell_type": "code",
      "source": [
        "test_vocabs[:10]"
      ],
      "metadata": {
        "colab": {
          "base_uri": "https://localhost:8080/"
        },
        "id": "7hiuQwUSs4GG",
        "outputId": "01eebcc2-713f-40f7-d339-7a582aad3054"
      },
      "execution_count": 629,
      "outputs": [
        {
          "output_type": "execute_result",
          "data": {
            "text/plain": [
              "['unconvincing',\n",
              " 'tasteful',\n",
              " 'monkeys',\n",
              " 'Irving',\n",
              " 'good',\n",
              " 'leu',\n",
              " 'grandpa',\n",
              " 'swimming',\n",
              " 'decided',\n",
              " 'brightest']"
            ]
          },
          "metadata": {},
          "execution_count": 629
        }
      ]
    },
    {
      "cell_type": "markdown",
      "source": [
        "Preparing Test Dataset"
      ],
      "metadata": {
        "id": "wUxSe8U1s7Zf"
      }
    },
    {
      "cell_type": "code",
      "source": [
        "test_data = {}\n",
        "key = None\n",
        "value = []\n",
        "with open('questions-words.txt') as file:\n",
        "    for line in file.readlines():\n",
        "        if line[0] == \":\":\n",
        "            if key != None:\n",
        "                test_data[key] = value\n",
        "            key = line.strip()\n",
        "            value = []\n",
        "            continue\n",
        "        value.append(line.strip().lower())\n",
        "    test_data[key] = value"
      ],
      "metadata": {
        "id": "oyBiCg8zs6LO"
      },
      "execution_count": 630,
      "outputs": []
    },
    {
      "cell_type": "code",
      "source": [
        "len(test_data)"
      ],
      "metadata": {
        "colab": {
          "base_uri": "https://localhost:8080/"
        },
        "id": "Gvw3qWSQtBfo",
        "outputId": "39f6da44-7635-4ab6-f926-26292ec673cc"
      },
      "execution_count": 631,
      "outputs": [
        {
          "output_type": "execute_result",
          "data": {
            "text/plain": [
              "14"
            ]
          },
          "metadata": {},
          "execution_count": 631
        }
      ]
    },
    {
      "cell_type": "code",
      "source": [
        "test_data.keys()"
      ],
      "metadata": {
        "colab": {
          "base_uri": "https://localhost:8080/"
        },
        "id": "T19XOf76tLEK",
        "outputId": "0ed98597-39c5-41de-daf1-67140623ef8e"
      },
      "execution_count": 632,
      "outputs": [
        {
          "output_type": "execute_result",
          "data": {
            "text/plain": [
              "dict_keys([': capital-common-countries', ': capital-world', ': currency', ': city-in-state', ': family', ': gram1-adjective-to-adverb', ': gram2-opposite', ': gram3-comparative', ': gram4-superlative', ': gram5-present-participle', ': gram6-nationality-adjective', ': gram7-past-tense', ': gram8-plural', ': gram9-plural-verbs'])"
            ]
          },
          "metadata": {},
          "execution_count": 632
        }
      ]
    },
    {
      "cell_type": "code",
      "source": [
        "test_data[': capital-common-countries'][:15]"
      ],
      "metadata": {
        "colab": {
          "base_uri": "https://localhost:8080/"
        },
        "id": "Ll8XZ9a0uNyf",
        "outputId": "e88d07f3-ec6c-4926-fb69-05887e6891c8"
      },
      "execution_count": 633,
      "outputs": [
        {
          "output_type": "execute_result",
          "data": {
            "text/plain": [
              "['athens greece baghdad iraq',\n",
              " 'athens greece bangkok thailand',\n",
              " 'athens greece beijing china',\n",
              " 'athens greece berlin germany',\n",
              " 'athens greece bern switzerland',\n",
              " 'athens greece cairo egypt',\n",
              " 'athens greece canberra australia',\n",
              " 'athens greece hanoi vietnam',\n",
              " 'athens greece havana cuba',\n",
              " 'athens greece helsinki finland',\n",
              " 'athens greece islamabad pakistan',\n",
              " 'athens greece kabul afghanistan',\n",
              " 'athens greece london england',\n",
              " 'athens greece madrid spain',\n",
              " 'athens greece moscow russia']"
            ]
          },
          "metadata": {},
          "execution_count": 633
        }
      ]
    },
    {
      "cell_type": "code",
      "source": [
        "test_data[': capital-world'][:15]"
      ],
      "metadata": {
        "colab": {
          "base_uri": "https://localhost:8080/"
        },
        "id": "c8Xt-K-L_G_P",
        "outputId": "3a330c99-d682-4988-fc66-67f2738bf66f"
      },
      "execution_count": 634,
      "outputs": [
        {
          "output_type": "execute_result",
          "data": {
            "text/plain": [
              "['abuja nigeria accra ghana',\n",
              " 'abuja nigeria algiers algeria',\n",
              " 'abuja nigeria amman jordan',\n",
              " 'abuja nigeria ankara turkey',\n",
              " 'abuja nigeria antananarivo madagascar',\n",
              " 'abuja nigeria apia samoa',\n",
              " 'abuja nigeria ashgabat turkmenistan',\n",
              " 'abuja nigeria asmara eritrea',\n",
              " 'abuja nigeria astana kazakhstan',\n",
              " 'abuja nigeria athens greece',\n",
              " 'abuja nigeria baghdad iraq',\n",
              " 'abuja nigeria baku azerbaijan',\n",
              " 'abuja nigeria bamako mali',\n",
              " 'abuja nigeria bangkok thailand',\n",
              " 'abuja nigeria banjul gambia']"
            ]
          },
          "metadata": {},
          "execution_count": 634
        }
      ]
    },
    {
      "cell_type": "markdown",
      "source": [
        "Semantic Syntactic Analysis"
      ],
      "metadata": {
        "id": "JvcpYE2t_Rje"
      }
    },
    {
      "cell_type": "code",
      "source": [
        "semantic = [': capital-common-countries']\n",
        "syntactic = [': capital-world']"
      ],
      "metadata": {
        "id": "h-b2EgQF_PuO"
      },
      "execution_count": 635,
      "outputs": []
    },
    {
      "cell_type": "code",
      "source": [
        "from scipy.spatial import distance\n",
        "\n",
        "def evaluate(model, test_dict):\n",
        "\n",
        "    total_corr = 0\n",
        "    total_acc = 0\n",
        "    pairs_used = 0\n",
        "    \n",
        "    for key in test_dict:\n",
        "        pairs = test_data[key]\n",
        "        # print(pairs[0].split(\" \"))\n",
        "\n",
        "        for pair in pairs:\n",
        "            pair_tokenized = pair.split(\" \")\n",
        "            ind1, ind2, ind3, ind4 = pair_tokenized  \n",
        "            if ind1 not in vocabs or ind2 not in vocabs or ind3 not in vocabs or ind4 not in vocabs:\n",
        "                continue\n",
        "                \n",
        "            ind4_index = vocabs.index(ind4)\n",
        "            \n",
        "            ind1_embed = get_embed(ind1)\n",
        "            ind2_embed = get_embed(ind2)\n",
        "            ind3_embed = get_embed(ind3)\n",
        "            \n",
        "            overall_embed = (np.subtract(ind2_embed, ind1_embed) + (ind3_embed))\n",
        "            \n",
        "            count = -1\n",
        "            similarity_arr = [0] * len(vocabs)\n",
        "\n",
        "            for vocab in vocabs:\n",
        "                count += 1\n",
        "                if vocab in pair_tokenized[:3]:\n",
        "                    continue\n",
        "  \n",
        "                current = get_embed(vocab)\n",
        "                # cos_similarity = torch.nn.CosineSimilarity(dim=1, eps=1e-6)\n",
        "                similarity_arr[count] = distance.cosine(torch.tensor(overall_embed), torch.tensor(current))\n",
        "            \n",
        "            similarity_arr_sorted_index = np.argsort(similarity_arr)\n",
        "            rank = np.where(similarity_arr_sorted_index == ind4_index)[0][0]\n",
        "            total_acc += (rank + 1) / len(vocabs)\n",
        "            \n",
        "            pairs_used += 1\n",
        "            predicted_word = np.argmax(similarity_arr)\n",
        "            if predicted_word == ind4:\n",
        "                total_corr+= 1\n",
        "                \n",
        "    total_acc = total_corr / pairs_used\n",
        "    return total_acc, total_corr\n",
        "     "
      ],
      "metadata": {
        "id": "BBY38dOQ_eX2"
      },
      "execution_count": 636,
      "outputs": []
    },
    {
      "cell_type": "markdown",
      "source": [
        "Skipgram (Semantic and Syntactic Accuracy)"
      ],
      "metadata": {
        "id": "9vgCMgqJ_qj1"
      }
    },
    {
      "cell_type": "code",
      "source": [
        "total_acc, total_corr = evaluate(model_skipgram, semantic)"
      ],
      "metadata": {
        "id": "9KHYd7cS_uef"
      },
      "execution_count": 637,
      "outputs": []
    },
    {
      "cell_type": "code",
      "source": [
        "print(f\"Skipgram (Semantic) Accuracy: {total_acc}%\")"
      ],
      "metadata": {
        "colab": {
          "base_uri": "https://localhost:8080/"
        },
        "id": "mSrm92WzDOc1",
        "outputId": "5e3f6e8a-3406-4636-f598-e5978586dc90"
      },
      "execution_count": 638,
      "outputs": [
        {
          "output_type": "stream",
          "name": "stdout",
          "text": [
            "Skipgram (Semantic) Accuracy: 0.0%\n"
          ]
        }
      ]
    },
    {
      "cell_type": "code",
      "source": [
        "total_acc, total_corr = evaluate(model_skipgram, syntactic)"
      ],
      "metadata": {
        "id": "AkJH1oUDdIoA"
      },
      "execution_count": 639,
      "outputs": []
    },
    {
      "cell_type": "code",
      "source": [
        "print(f\"Skipgram (Syntactic) Accuracy: {total_acc}%\")"
      ],
      "metadata": {
        "colab": {
          "base_uri": "https://localhost:8080/"
        },
        "id": "XNBCoT8HdM0W",
        "outputId": "56a405f7-9c13-4322-ce89-513d875be6c7"
      },
      "execution_count": 640,
      "outputs": [
        {
          "output_type": "stream",
          "name": "stdout",
          "text": [
            "Skipgram (Syntactic) Accuracy: 0.0%\n"
          ]
        }
      ]
    },
    {
      "cell_type": "markdown",
      "source": [
        "CBOW (Semantic and Syntactic Accuracy)"
      ],
      "metadata": {
        "id": "j-a3fVeid5e5"
      }
    },
    {
      "cell_type": "code",
      "source": [
        "total_acc, total_corr = evaluate(model_cbow, semantic)"
      ],
      "metadata": {
        "id": "rFqy37Wvd9UO"
      },
      "execution_count": 641,
      "outputs": []
    },
    {
      "cell_type": "code",
      "source": [
        "print(f\"CBOW (Semantic) Accuracy: {total_acc}%\")"
      ],
      "metadata": {
        "colab": {
          "base_uri": "https://localhost:8080/"
        },
        "id": "9h15Sg4Yd-_I",
        "outputId": "51799c7c-a212-4a7e-f2de-393028da5012"
      },
      "execution_count": 642,
      "outputs": [
        {
          "output_type": "stream",
          "name": "stdout",
          "text": [
            "CBOW (Semantic) Accuracy: 0.0%\n"
          ]
        }
      ]
    },
    {
      "cell_type": "code",
      "source": [
        "total_acc, total_corr = evaluate(model_cbow, syntactic)"
      ],
      "metadata": {
        "id": "adR1pIuVeAjo"
      },
      "execution_count": 643,
      "outputs": []
    },
    {
      "cell_type": "code",
      "source": [
        "print(f\"CBOW (Syntactic) Accuracy: {total_acc}%\")"
      ],
      "metadata": {
        "colab": {
          "base_uri": "https://localhost:8080/"
        },
        "id": "7XV4qfKceGaA",
        "outputId": "90d28b46-1303-456c-b05a-11ddaeef3edd"
      },
      "execution_count": 644,
      "outputs": [
        {
          "output_type": "stream",
          "name": "stdout",
          "text": [
            "CBOW (Syntactic) Accuracy: 0.0%\n"
          ]
        }
      ]
    },
    {
      "cell_type": "markdown",
      "source": [
        "Skipgram Negative Sampling (Semantic and Syntactic Accuracy)"
      ],
      "metadata": {
        "id": "DLTr5wuOeILP"
      }
    },
    {
      "cell_type": "code",
      "source": [
        "total_acc, total_corr = evaluate(model_negskip, semantic)"
      ],
      "metadata": {
        "id": "SpEGta_keK2M"
      },
      "execution_count": 645,
      "outputs": []
    },
    {
      "cell_type": "code",
      "source": [
        "print(f\"Skipgram Negative Sampling (Semantic) Accuracy: {total_acc}%\")"
      ],
      "metadata": {
        "colab": {
          "base_uri": "https://localhost:8080/"
        },
        "id": "aqO2xELBeNks",
        "outputId": "e820b836-5ca0-4bd7-9c55-14b43139411c"
      },
      "execution_count": 646,
      "outputs": [
        {
          "output_type": "stream",
          "name": "stdout",
          "text": [
            "Skipgram Negative Sampling (Semantic) Accuracy: 0.0%\n"
          ]
        }
      ]
    },
    {
      "cell_type": "code",
      "source": [
        "total_acc, total_corr = evaluate(model_negskip, syntactic)"
      ],
      "metadata": {
        "id": "W7ajY-zQePL1"
      },
      "execution_count": 647,
      "outputs": []
    },
    {
      "cell_type": "code",
      "source": [
        "print(f\"Skipgram Negative Sampling (Syntactic) Accuracy: {total_acc}%\")"
      ],
      "metadata": {
        "colab": {
          "base_uri": "https://localhost:8080/"
        },
        "id": "sDsYZBZieQt1",
        "outputId": "f4aced8a-3b20-4a09-cc41-567656a0399a"
      },
      "execution_count": 648,
      "outputs": [
        {
          "output_type": "stream",
          "name": "stdout",
          "text": [
            "Skipgram Negative Sampling (Syntactic) Accuracy: 0.0%\n"
          ]
        }
      ]
    },
    {
      "cell_type": "markdown",
      "source": [
        "GloVe (Semantic and Syntactic Accuracy)"
      ],
      "metadata": {
        "id": "1Yof8JWEhSd_"
      }
    },
    {
      "cell_type": "code",
      "source": [
        "total_acc, total_corr = evaluate(model_glove, semantic)"
      ],
      "metadata": {
        "id": "88IWfcWqhTMZ"
      },
      "execution_count": 649,
      "outputs": []
    },
    {
      "cell_type": "code",
      "source": [
        "print(f\"GloVe (Semantic) Accuracy: {total_acc}%\")"
      ],
      "metadata": {
        "colab": {
          "base_uri": "https://localhost:8080/"
        },
        "id": "YYWPg2_whUsf",
        "outputId": "e6281551-2692-4b04-e986-9a3a9d23febd"
      },
      "execution_count": 650,
      "outputs": [
        {
          "output_type": "stream",
          "name": "stdout",
          "text": [
            "GloVe (Semantic) Accuracy: 0.0%\n"
          ]
        }
      ]
    },
    {
      "cell_type": "code",
      "source": [
        "total_acc, total_corr = evaluate(model_glove, syntactic)"
      ],
      "metadata": {
        "id": "k72HpK_BhWXk"
      },
      "execution_count": 651,
      "outputs": []
    },
    {
      "cell_type": "code",
      "source": [
        "print(f\"GloVe (Syntactic) Accuracy: {total_acc}%\")"
      ],
      "metadata": {
        "colab": {
          "base_uri": "https://localhost:8080/"
        },
        "id": "z4E8kaGqhX5d",
        "outputId": "ce0bf6c2-a49f-4c3c-c385-d8449b544a10"
      },
      "execution_count": 652,
      "outputs": [
        {
          "output_type": "stream",
          "name": "stdout",
          "text": [
            "GloVe (Syntactic) Accuracy: 0.0%\n"
          ]
        }
      ]
    },
    {
      "cell_type": "markdown",
      "source": [
        "Correlation with Similarity "
      ],
      "metadata": {
        "id": "GI4m4a1RhZ8B"
      }
    },
    {
      "cell_type": "markdown",
      "source": [
        "Loading the Dataset"
      ],
      "metadata": {
        "id": "bHUCgyHWhhBy"
      }
    },
    {
      "cell_type": "code",
      "source": [
        "import torch\n",
        "from scipy.stats import spearmanr"
      ],
      "metadata": {
        "id": "unISXK2Ihkqf"
      },
      "execution_count": 653,
      "outputs": []
    },
    {
      "cell_type": "code",
      "source": [
        "with open('wordsim_similarity_goldstandard.txt') as file:\n",
        "    similar_data = [line.strip().lower().split(\"\\t\") for line in file.readlines()]"
      ],
      "metadata": {
        "id": "kCahJnLohpia"
      },
      "execution_count": 655,
      "outputs": []
    },
    {
      "cell_type": "code",
      "source": [
        "similar_data[:15]"
      ],
      "metadata": {
        "colab": {
          "base_uri": "https://localhost:8080/"
        },
        "id": "J6gIdPjFhqdl",
        "outputId": "a681bc14-c738-464b-ffa7-6c25032f1031"
      },
      "execution_count": 656,
      "outputs": [
        {
          "output_type": "execute_result",
          "data": {
            "text/plain": [
              "[['tiger', 'cat', '7.35'],\n",
              " ['tiger', 'tiger', '10.00'],\n",
              " ['plane', 'car', '5.77'],\n",
              " ['train', 'car', '6.31'],\n",
              " ['television', 'radio', '6.77'],\n",
              " ['media', 'radio', '7.42'],\n",
              " ['bread', 'butter', '6.19'],\n",
              " ['cucumber', 'potato', '5.92'],\n",
              " ['doctor', 'nurse', '7.00'],\n",
              " ['professor', 'doctor', '6.62'],\n",
              " ['student', 'professor', '6.81'],\n",
              " ['smart', 'stupid', '5.81'],\n",
              " ['wood', 'forest', '7.73'],\n",
              " ['money', 'cash', '9.15'],\n",
              " ['king', 'queen', '8.58']]"
            ]
          },
          "metadata": {},
          "execution_count": 656
        }
      ]
    },
    {
      "cell_type": "code",
      "source": [
        "flatten = lambda l: [item for sublist in l for item in sublist]\n",
        "similarity_vocabs  = list((flatten(similar_data)))"
      ],
      "metadata": {
        "id": "76N7_z3_llUI"
      },
      "execution_count": 657,
      "outputs": []
    },
    {
      "cell_type": "code",
      "source": [
        "len(similarity_vocabs)"
      ],
      "metadata": {
        "colab": {
          "base_uri": "https://localhost:8080/"
        },
        "id": "0xZnnJPKlo2P",
        "outputId": "cebbc91d-e23f-4fc2-cb0f-74bfade434c0"
      },
      "execution_count": 658,
      "outputs": [
        {
          "output_type": "execute_result",
          "data": {
            "text/plain": [
              "609"
            ]
          },
          "metadata": {},
          "execution_count": 658
        }
      ]
    },
    {
      "cell_type": "code",
      "source": [
        "similarity_vocabs[:10]"
      ],
      "metadata": {
        "colab": {
          "base_uri": "https://localhost:8080/"
        },
        "id": "9kxLNH5ulrA4",
        "outputId": "169ebf05-1b65-47c7-fedb-0b229ce16d91"
      },
      "execution_count": 659,
      "outputs": [
        {
          "output_type": "execute_result",
          "data": {
            "text/plain": [
              "['tiger',\n",
              " 'cat',\n",
              " '7.35',\n",
              " 'tiger',\n",
              " 'tiger',\n",
              " '10.00',\n",
              " 'plane',\n",
              " 'car',\n",
              " '5.77',\n",
              " 'train']"
            ]
          },
          "metadata": {},
          "execution_count": 659
        }
      ]
    },
    {
      "cell_type": "markdown",
      "source": [
        "Similarity Analysis"
      ],
      "metadata": {
        "id": "_BJKkXp5l_dP"
      }
    },
    {
      "cell_type": "code",
      "source": [
        "from scipy.spatial import distance\n",
        "\n",
        "def evaluate_similarity(dataset, model):\n",
        "\n",
        "    similarities = []\n",
        "    \n",
        "    for idx, pair in enumerate(dataset):\n",
        "        ind1, ind2, eval = pair\n",
        "        \n",
        "        ind1_embedding = get_embed(ind1)\n",
        "        ind2_embedding = get_embed(ind2)\n",
        "        \n",
        "        similarity = distance.cosine(torch.tensor(ind1_embedding), torch.tensor(ind2_embedding))\n",
        "        similarities.append((similarity, float(eval)))\n",
        "\n",
        "        return similarities"
      ],
      "metadata": {
        "id": "NUmF1aGPl7dU"
      },
      "execution_count": 660,
      "outputs": []
    },
    {
      "cell_type": "markdown",
      "source": [
        "Skipgram (Similarity Analysis)"
      ],
      "metadata": {
        "id": "D_eEdY9TmFH3"
      }
    },
    {
      "cell_type": "code",
      "source": [
        "similarities = evaluate_similarity(similar_data, model_skipgram)"
      ],
      "metadata": {
        "id": "jq-ssh5FmDTE"
      },
      "execution_count": 661,
      "outputs": []
    },
    {
      "cell_type": "code",
      "source": [
        "print(\"Spearmanr correlatin for Skipgram:\", similarities[0][0])\n",
        "print(\"Spearmanr p-value for Skipgram:\", similarities[0][1])"
      ],
      "metadata": {
        "colab": {
          "base_uri": "https://localhost:8080/"
        },
        "id": "U_3YqqRSmJDO",
        "outputId": "5865f94e-29ec-4688-cb7e-37efc61187c1"
      },
      "execution_count": 662,
      "outputs": [
        {
          "output_type": "stream",
          "name": "stdout",
          "text": [
            "Spearmanr correlatin for Skipgram: 0\n",
            "Spearmanr p-value for Skipgram: 7.35\n"
          ]
        }
      ]
    },
    {
      "cell_type": "markdown",
      "source": [
        "CBOW (Similarity Analysis)"
      ],
      "metadata": {
        "id": "oY_U0cipmSfs"
      }
    },
    {
      "cell_type": "code",
      "source": [
        "similarities = evaluate_similarity(similar_data, model_cbow)"
      ],
      "metadata": {
        "id": "21yMC5spmPuk"
      },
      "execution_count": 663,
      "outputs": []
    },
    {
      "cell_type": "code",
      "source": [
        "print(\"Spearmanr correlatin for CBOW:\", similarities[0][0])\n",
        "print(\"Spearmanr p-value for CBOW:\", similarities[0][1])"
      ],
      "metadata": {
        "colab": {
          "base_uri": "https://localhost:8080/"
        },
        "id": "8VePeoLomXHs",
        "outputId": "a6d50b22-2684-4b1d-caea-8338ecdbc72b"
      },
      "execution_count": 664,
      "outputs": [
        {
          "output_type": "stream",
          "name": "stdout",
          "text": [
            "Spearmanr correlatin for CBOW: 0\n",
            "Spearmanr p-value for CBOW: 7.35\n"
          ]
        }
      ]
    },
    {
      "cell_type": "markdown",
      "source": [
        "Skipgram Negative Sampling (Similarity Analysis)"
      ],
      "metadata": {
        "id": "pCdHhc1Qmb4l"
      }
    },
    {
      "cell_type": "code",
      "source": [
        "similarities = evaluate_similarity(similar_data, model_negskip)\n",
        "     "
      ],
      "metadata": {
        "id": "jsif0uaQmaV9"
      },
      "execution_count": 665,
      "outputs": []
    },
    {
      "cell_type": "code",
      "source": [
        "print(\"Spearmanr correlatin for Skipgram Negative Sampling:\", similarities[0][0])\n",
        "print(\"Spearmanr p-value for Skipgram Negative Sampling:\", similarities[0][1])"
      ],
      "metadata": {
        "colab": {
          "base_uri": "https://localhost:8080/"
        },
        "id": "bhAweKn6mjFW",
        "outputId": "7c4e1244-1860-402a-d4c7-e48103c0ec26"
      },
      "execution_count": 666,
      "outputs": [
        {
          "output_type": "stream",
          "name": "stdout",
          "text": [
            "Spearmanr correlatin for Skipgram Negative Sampling: 0\n",
            "Spearmanr p-value for Skipgram Negative Sampling: 7.35\n"
          ]
        }
      ]
    },
    {
      "cell_type": "markdown",
      "source": [
        "GloVe (Similarity Analysis)"
      ],
      "metadata": {
        "id": "nTKhQHERmqOW"
      }
    },
    {
      "cell_type": "code",
      "source": [
        "similarities = evaluate_similarity(similar_data, model_glove)"
      ],
      "metadata": {
        "id": "lNVH9Z2dml8_"
      },
      "execution_count": 667,
      "outputs": []
    },
    {
      "cell_type": "code",
      "source": [
        "print(\"Spearmanr correlatin for GloVe:\", similarities[0][0])\n",
        "print(\"Spearmanr p-value for GloVe:\", similarities[0][1])"
      ],
      "metadata": {
        "colab": {
          "base_uri": "https://localhost:8080/"
        },
        "id": "koAaqgP1mwMO",
        "outputId": "f699c0c6-dda6-43f0-f917-14e5bf5838a2"
      },
      "execution_count": 668,
      "outputs": [
        {
          "output_type": "stream",
          "name": "stdout",
          "text": [
            "Spearmanr correlatin for GloVe: 0\n",
            "Spearmanr p-value for GloVe: 7.35\n"
          ]
        }
      ]
    },
    {
      "cell_type": "markdown",
      "source": [
        "**Report**\n",
        "\n",
        "Initially, we developed four different models (Skipgram, CBOW, Skipgram Negative Sampling, and GloVe) for the assignment. Subsequently, we assessed their semantic and syntactic accuracy, but the outcomes were not satisfactory due to the small size of the training set used and the limited overlap with the test set samples. In the second part, we utilized a similarity dataset to establish the association of the models. However, we encountered the same results for all models as we employed a common get_embed function. It would have been more appropriate to have different get_embed functions for each model. Overall, we conducted an experimental analysis to compare the semantic and syntactic accuracy of the models and explore their correlation with the similarity dataset.**bold text**"
      ],
      "metadata": {
        "id": "PhRwdpQNmy3V"
      }
    }
  ]
}